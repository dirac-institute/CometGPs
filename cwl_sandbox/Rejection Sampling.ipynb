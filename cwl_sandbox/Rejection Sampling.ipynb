{
 "cells": [
  {
   "cell_type": "code",
   "execution_count": null,
   "metadata": {},
   "outputs": [],
   "source": [
    "import numpy as np\n",
    "import pandas as pd\n",
    "import matplotlib.pyplot as plt\n",
    "%matplotlib inline\n",
    "#import thejoker\n",
    "import scipy.stats\n",
    "import GP_class\n",
    "import george\n",
    "import numpy.random as rnd\n",
    "\n",
    "import sys\n",
    "import time as tm"
   ]
  },
  {
   "cell_type": "code",
   "execution_count": 2,
   "metadata": {},
   "outputs": [],
   "source": [
    "def read_data(filename, whitespace=False, datadir=\"./\"):\n",
    "    \"\"\"\n",
    "    Read in light curve data from asteroid.\n",
    "    \"\"\"\n",
    "\n",
    "    data  = pd.read_csv(datadir+filename, header=None, delim_whitespace=whitespace)\n",
    "\n",
    "    tsample = data[0]\n",
    "    fsample = data[1]\n",
    "    flux_err = data[2]\n",
    "\n",
    "    return tsample, fsample, flux_err\n",
    "\n",
    "time, flux, flux_err = read_data(\"../data/simulation_results_new/3200/3200_lc_49627_to_49787.txt_sampled_talc_14days.txt\")"
   ]
  },
  {
   "cell_type": "code",
   "execution_count": 3,
   "metadata": {},
   "outputs": [],
   "source": [
    "# 1 : set up the prior distriubtion\n",
    "\n",
    "# try the  np norm distriubtion : np.random.norm\n",
    "# as computing about timing scripts\n",
    "# time it scipy vs numpy\n",
    "\n",
    "prior_mean = scipy.stats.norm(1, 0.5)\n",
    "prior_log_amp = scipy.stats.norm(np.log(0.15), np.log(2))\n",
    "prior_log_gamma = scipy.stats.norm(np.log(10), np.log(2))\n",
    "prior_log_period = scipy.stats.norm(np.log(4./24.), (12./24.))"
   ]
  },
  {
   "cell_type": "code",
   "execution_count": 4,
   "metadata": {},
   "outputs": [
    {
     "name": "stdout",
     "output_type": "stream",
     "text": [
      "CPU times: user 3 µs, sys: 0 ns, total: 3 µs\n",
      "Wall time: 7.15 µs\n"
     ]
    }
   ],
   "source": [
    "%time\n",
    "nsamples = 10**8\n",
    "\n",
    "J_mean = prior_mean.rvs(nsamples)\n",
    "J_log_amp = prior_log_amp.rvs(nsamples)\n",
    "J_log_gamma = prior_log_gamma.rvs(nsamples)\n",
    "J_log_period= prior_log_period.rvs(nsamples)"
   ]
  },
  {
   "cell_type": "code",
   "execution_count": 5,
   "metadata": {},
   "outputs": [],
   "source": [
    "#%timeit rnd.randn(1000000)\n",
    "\n",
    "#J  = J*0.5 + np.log(4/24.)\n",
    "# multiply by st dev and add mean"
   ]
  },
  {
   "cell_type": "code",
   "execution_count": 6,
   "metadata": {},
   "outputs": [],
   "source": [
    "mean_flux = np.mean(flux)\n",
    "log_amp = np.log(flux.max()-flux.min())\n",
    "gamma = 1\n",
    "log_period = 0"
   ]
  },
  {
   "cell_type": "code",
   "execution_count": 7,
   "metadata": {},
   "outputs": [],
   "source": [
    "kernel = np.exp(log_amp) * george.kernels.ExpSine2Kernel(gamma = gamma, log_period = log_period)\n",
    "gp = george.GP(kernel, fit_mean=True, mean=mean_flux)\n",
    "gp.compute(time, flux_err)"
   ]
  },
  {
   "cell_type": "code",
   "execution_count": 8,
   "metadata": {},
   "outputs": [],
   "source": [
    "def calculate_likelihood(i):\n",
    "    params = [J_mean[i], J_log_amp[i], np.exp(J_log_gamma[i]), J_log_period[i]]\n",
    "    gp.set_parameter_vector(params)\n",
    "\n",
    "    try:\n",
    "        #gp.compute(time, flux_err)\n",
    "        lnlike = gp.log_likelihood(flux)\n",
    "    except np.linalg.LinAlgError:\n",
    "        lnlike = -1e25\n",
    "\n",
    "    #L_results[i] = lnlike\n",
    "    \n",
    "    return lnlike"
   ]
  },
  {
   "cell_type": "code",
   "execution_count": null,
   "metadata": {},
   "outputs": [],
   "source": [
    "#%%prun\n",
    "# 2: for each j, calculate the log likelihood\n",
    "\n",
    "L_results = np.ones(nsamples)\n",
    "\n",
    "start_time = tm.time()\n",
    "\n",
    "for i in np.arange(nsamples):\n",
    "\n",
    "    p = ((i+1)/nsamples)*100\n",
    "    if p.is_integer():\n",
    "        sys.stdout.write('\\r'+str(int(p))+\"%\")\n",
    "\n",
    "    params = [J_mean[i], J_log_amp[i], np.exp(J_log_gamma[i]), J_log_period[i]]\n",
    "\n",
    "    gp.set_parameter_vector(params)\n",
    "\n",
    "    try:\n",
    "        #gp.compute(time, flux_err)\n",
    "        lnlike = gp.log_likelihood(flux)\n",
    "    except np.linalg.LinAlgError:\n",
    "        lnlike = -1e25\n",
    "\n",
    "    L_results[i] = lnlike\n",
    "        \n",
    "end_time = tm.time()\n",
    "\n",
    "print(\"\\ntotal time taken for this loop: %.2f seconds\" %(end_time - start_time))\n"
   ]
  },
  {
   "cell_type": "code",
   "execution_count": 9,
   "metadata": {},
   "outputs": [
    {
     "data": {
      "text/plain": [
       "96"
      ]
     },
     "execution_count": 9,
     "metadata": {},
     "output_type": "execute_result"
    }
   ],
   "source": [
    "import multiprocessing as mp\n",
    "(mp.cpu_count())"
   ]
  },
  {
   "cell_type": "code",
   "execution_count": 10,
   "metadata": {
    "scrolled": true
   },
   "outputs": [
    {
     "name": "stdout",
     "output_type": "stream",
     "text": [
      "\n",
      "total time taken for this loop: 3553.86 seconds\n"
     ]
    }
   ],
   "source": [
    "# Parallelizing using Pool.map()\n",
    "import multiprocessing as mp\n",
    "\n",
    "# Redefine, with only 1 mandatory argument.\n",
    "#def howmany_within_range_rowonly(row, minimum=4, maximum=8):\n",
    "#    count = 0\n",
    "#    for n in row:\n",
    "#        if minimum <= n <= maximum:\n",
    "#            count = count + 1\n",
    "#    return count\n",
    "\n",
    "#pool = mp.Pool(mp.cpu_count())\n",
    "\n",
    "#results = pool.map(howmany_within_range_rowonly, [row for row in data])\n",
    "\n",
    "#pool.close()\n",
    "\n",
    "\n",
    "\n",
    "#print(results[:10])\n",
    "########################################33\n",
    "#start_time = tm.time()\n",
    "#L_results = np.ones(nsamples)\n",
    "start_time = tm.time()\n",
    "\n",
    "\n",
    "pool = mp.Pool(40)\n",
    "\n",
    "L_results = []\n",
    "L_results = pool.map(calculate_likelihood, [i for i in np.arange(nsamples)])\n",
    "\n",
    "pool.close()\n",
    "\n",
    "end_time = tm.time()\n",
    "print(\"\\ntotal time taken for this loop: %.2f seconds\" %(end_time - start_time))"
   ]
  },
  {
   "cell_type": "code",
   "execution_count": null,
   "metadata": {
    "scrolled": true
   },
   "outputs": [],
   "source": [
    "(L_results[0])"
   ]
  },
  {
   "cell_type": "code",
   "execution_count": null,
   "metadata": {},
   "outputs": [],
   "source": [
    "L_results = np.ones(nsamples)\n",
    "\n",
    "start_time = tm.time()\n",
    "\n",
    "with mp.Pool(processes=mp.cpu_count()) as p:\n",
    "    max_ = nsamples\n",
    "    with tqdm(total=max_) as pbar:\n",
    "        for i, _ in tqdm_notebook(enumerate(p.imap_unordered(calculate_likelihood, np.arange(max_)))):\n",
    "            pbar.update()\n",
    "        pbar.close(); del pbar\n",
    "            \n",
    "end_time = tm.time()\n",
    "print(\"\\ntotal time taken for this loop: %.2f seconds\" %(end_time - start_time))"
   ]
  },
  {
   "cell_type": "code",
   "execution_count": null,
   "metadata": {},
   "outputs": [],
   "source": [
    "fig, ax = plt.subplots(2,2, figsize=(12,12))\n",
    "\n",
    "ax[0,0].scatter(np.exp(J_log_period)*24., L_results)\n",
    "\n",
    "L_max_period = np.exp(J_log_period[np.where(L_results==L_results.max())])*24.\n",
    "ax[0,0].vlines(L_max_period, L_results.min(), L_results.max(), label=\"Lmax: %f\" %L_max_period, linestyles='dashed', alpha=0.7)\n",
    "ax[0,0].legend()\n",
    "ax[0,0].set_title(\"Period (hours)\")\n",
    "\n",
    "\n",
    "ax[0,1].scatter(J_mean, L_results)\n",
    "\n",
    "L_max_mean = J_mean[np.where(L_results==L_results.max())]\n",
    "ax[0,1].vlines(L_max_mean, L_results.min(), L_results.max(), label=\"Lmax: %f\" %L_max_mean, linestyles='dashed', alpha=0.7)\n",
    "ax[0,1].legend()\n",
    "ax[0,1].set_title(\"Mean\")\n",
    "\n",
    "\n",
    "ax[1,0].scatter(J_log_amp, L_results)\n",
    "\n",
    "L_max_amp = np.exp(J_log_amp[np.where(L_results==L_results.max())])\n",
    "ax[1,0].vlines(L_max_amp, L_results.min(), L_results.max(), label=\"Lmax: %f\" %L_max_amp, linestyles='dashed', alpha=0.7)\n",
    "ax[1,0].legend()\n",
    "ax[1,0].set_title(\"Amplitude\")\n",
    "\n",
    "ax[1,1].scatter(np.exp(J_log_gamma), L_results)\n",
    "\n",
    "L_max_gamma = np.exp(J_log_gamma[np.where(L_results==L_results.max())])\n",
    "ax[1,1].vlines(L_max_gamma, L_results.min(), L_results.max(), label=\"Lmax: %f\" %L_max_gamma, linestyles='dashed', alpha=0.7)\n",
    "ax[1,1].legend()\n",
    "ax[1,1].set_title(\"Gamma\")"
   ]
  },
  {
   "cell_type": "code",
   "execution_count": 30,
   "metadata": {},
   "outputs": [
    {
     "data": {
      "text/plain": [
       "82"
      ]
     },
     "execution_count": 30,
     "metadata": {},
     "output_type": "execute_result"
    }
   ],
   "source": [
    "# 3 : Pick a random number r out of a uniform distribution between 0 and Lmax\n",
    "uu = rnd.uniform(size=len(L_results))\n",
    "\n",
    "good_samples_bool = 0.001 < np.exp(L_results-max(L_results))\n",
    "good_samples_idx, = np.where(good_samples_bool)\n",
    "\n",
    "len(good_samples_idx)"
   ]
  },
  {
   "cell_type": "code",
   "execution_count": 31,
   "metadata": {},
   "outputs": [],
   "source": [
    "x= np.array(L_results)"
   ]
  },
  {
   "cell_type": "code",
   "execution_count": 32,
   "metadata": {},
   "outputs": [
    {
     "data": {
      "text/plain": [
       "array([298.54085988, 300.44960104, 299.10563236, 299.64276378,\n",
       "       299.36792584, 298.38981998, 298.38108271, 300.10195418,\n",
       "       303.13469854, 299.30267272, 299.39218526, 303.36010507,\n",
       "       298.46021259, 299.68710363, 299.85296169, 300.48352824,\n",
       "       298.38614818, 299.38772124, 300.95715676, 301.97202762,\n",
       "       299.94149389, 299.43278196, 298.35309397, 299.65420294,\n",
       "       301.13572932, 303.02852755, 301.42311449, 298.67584611,\n",
       "       303.57421372, 298.47436504, 302.99429229, 300.39691045,\n",
       "       299.03182909, 298.55006503, 298.31126286, 298.32126772,\n",
       "       300.1764921 , 298.54177052, 301.70120459, 299.42262896,\n",
       "       298.97738265, 299.1293469 , 298.35939559, 300.07354782,\n",
       "       303.32152274, 301.61934467, 299.64576533, 299.26967695,\n",
       "       301.32813827, 299.61466794, 298.66417919, 298.25804878,\n",
       "       300.7231801 , 300.48530225, 298.78690607, 301.82857602,\n",
       "       300.93153264, 304.08383904, 300.40503571, 300.28321855,\n",
       "       301.3194282 , 298.76233342, 301.92779558, 303.41874035,\n",
       "       299.17142394, 302.95724214, 301.37548186, 303.01002588,\n",
       "       298.29716239, 298.68027365, 299.52446846, 298.45148911,\n",
       "       298.87534422, 301.49558386, 300.09128588, 299.46838781,\n",
       "       299.43620391, 302.69492599, 300.46980493, 298.22589412,\n",
       "       298.47280014, 305.08544918])"
      ]
     },
     "execution_count": 32,
     "metadata": {},
     "output_type": "execute_result"
    }
   ],
   "source": [
    "x[good_samples_idx]"
   ]
  },
  {
   "cell_type": "code",
   "execution_count": 33,
   "metadata": {},
   "outputs": [
    {
     "data": {
      "text/plain": [
       "array([-1.89612739, -1.89606669, -1.89608126, -1.89606177, -1.89603895,\n",
       "       -1.89606262, -1.89603459, -1.89606597, -1.89609313, -1.89607185,\n",
       "       -1.89607846, -1.89609191, -1.89603623, -1.89604059, -1.89607167,\n",
       "       -1.89605339, -1.89600885, -1.89607652, -1.89606464, -1.89610632,\n",
       "       -1.89603866, -1.89606694, -1.89600891, -1.8959952 , -1.89610996,\n",
       "       -1.89609434, -1.89608571, -1.89609426, -1.89605149, -1.89610157,\n",
       "       -1.89606712, -1.89605515, -1.89604225, -1.89613905, -1.89606685,\n",
       "       -1.89602099, -1.89606978, -1.89611353, -1.89603712, -1.89604231,\n",
       "       -1.89609283, -1.89609837, -1.89607163, -1.89605838, -1.89606859,\n",
       "       -1.89605815, -1.89610848, -1.89600225, -1.89603579, -1.89602811,\n",
       "       -1.89601883, -1.89610137, -1.89612409, -1.89602383, -1.89600405,\n",
       "       -1.89607399, -1.896113  , -1.8960598 , -1.89611062, -1.89604032,\n",
       "       -1.8960921 , -1.89601619, -1.89610171, -1.89606639, -1.896023  ,\n",
       "       -1.89610849, -1.89608656, -1.89605427, -1.89608946, -1.89607464,\n",
       "       -1.89607637, -1.89605288, -1.89605028, -1.89604131, -1.89611296,\n",
       "       -1.89614424, -1.89612181, -1.89603285, -1.89607109, -1.8960207 ,\n",
       "       -1.89604815, -1.89604713])"
      ]
     },
     "execution_count": 33,
     "metadata": {},
     "output_type": "execute_result"
    }
   ],
   "source": [
    "J_log_period[good_samples_idx]"
   ]
  },
  {
   "cell_type": "code",
   "execution_count": 34,
   "metadata": {},
   "outputs": [
    {
     "data": {
      "text/plain": [
       "(3.6035, 3.604)"
      ]
     },
     "execution_count": 34,
     "metadata": {},
     "output_type": "execute_result"
    },
    {
     "data": {
      "image/png": "[encoded data removed]",
      "text/plain": [
       "<Figure size 432x288 with 1 Axes>"
      ]
     },
     "metadata": {},
     "output_type": "display_data"
    }
   ],
   "source": [
    "plt.scatter(np.exp(J_log_period[good_samples_idx])*24, x[good_samples_idx])\n",
    "plt.xlim([3.6035, 3.6040])"
   ]
  },
  {
   "cell_type": "code",
   "execution_count": null,
   "metadata": {},
   "outputs": [],
   "source": [
    "L_max_period = np.exp(J_log_period[np.where(L_results==max(L_results))])*24.\n"
   ]
  },
  {
   "cell_type": "code",
   "execution_count": null,
   "metadata": {},
   "outputs": [],
   "source": [
    "L_max_period"
   ]
  },
  {
   "cell_type": "code",
   "execution_count": null,
   "metadata": {},
   "outputs": [],
   "source": [
    "(np.nonzero(np.exp(L_results-max(L_results))))"
   ]
  },
  {
   "cell_type": "code",
   "execution_count": null,
   "metadata": {},
   "outputs": [],
   "source": [
    "len(J_log_period)"
   ]
  },
  {
   "cell_type": "code",
   "execution_count": null,
   "metadata": {},
   "outputs": [],
   "source": [
    "plt.scatter(np.exp(J_log_period)*24., np.exp(L_results-max(L_results)))\n",
    "\n",
    "# plot l_max\n",
    "L_max_period = np.exp(J_log_period[np.where(L_results==max(L_results))])*24.\n",
    "plt.vlines(L_max_period, 0, 1, label=\"Lmax: %f\" %L_max_period, linestyles='dashed', alpha=0.7)\n",
    "plt.legend()"
   ]
  },
  {
   "cell_type": "code",
   "execution_count": null,
   "metadata": {},
   "outputs": [],
   "source": [
    "plt.scatter(J_mean, np.exp(L_results-L_results.max()))\n",
    "\n",
    "# plot l_max\n",
    "L_max_mean = J_mean[np.where(L_results==L_results.max())]\n",
    "plt.vlines(L_max_mean, 0, 1, label=\"Lmax: %f\" %L_max_period, linestyles='dashed', alpha=0.7)\n",
    "plt.legend()"
   ]
  },
  {
   "cell_type": "code",
   "execution_count": null,
   "metadata": {},
   "outputs": [],
   "source": [
    "len(good_samples_idx)"
   ]
  },
  {
   "cell_type": "code",
   "execution_count": null,
   "metadata": {},
   "outputs": [],
   "source": [
    "import plotting"
   ]
  },
  {
   "cell_type": "code",
   "execution_count": null,
   "metadata": {},
   "outputs": [],
   "source": [
    "plotting.plot_folded_lightcurve(time, flux, period = np.exp(J_log_period[np.where(L_results==L_results.max())]))"
   ]
  },
  {
   "cell_type": "code",
   "execution_count": null,
   "metadata": {},
   "outputs": [],
   "source": [
    "import multiprocessing as mp\n",
    "print(\"Number of processors: \", mp.cpu_count())"
   ]
  },
  {
   "cell_type": "code",
   "execution_count": null,
   "metadata": {},
   "outputs": [],
   "source": [
    "import numpy as np\n",
    "from time import time\n",
    "\n",
    "# Prepare data\n",
    "np.random.RandomState(100)\n",
    "arr = np.random.randint(0, 10, size=[200000, 5])\n",
    "data = arr.tolist()\n",
    "data[:5]"
   ]
  },
  {
   "cell_type": "code",
   "execution_count": null,
   "metadata": {},
   "outputs": [],
   "source": [
    "# Solution Without Paralleization\n",
    "\n",
    "def howmany_within_range(row, minimum, maximum):\n",
    "    \"\"\"Returns how many numbers lie within `maximum` and `minimum` in a given `row`\"\"\"\n",
    "    count = 0\n",
    "    for n in row:\n",
    "        if minimum <= n <= maximum:\n",
    "            count = count + 1\n",
    "    return count\n",
    "\n",
    "results = []\n",
    "for row in data:\n",
    "    results.append(howmany_within_range(row, minimum=4, maximum=8))\n",
    "\n",
    "print(results[:10])\n",
    "#> [3, 1, 4, 4, 4, 2, 1, 1, 3, 3]"
   ]
  },
  {
   "cell_type": "code",
   "execution_count": null,
   "metadata": {},
   "outputs": [],
   "source": [
    "# Parallelizing using Pool.apply()\n",
    "\n",
    "import multiprocessing as mp\n",
    "\n",
    "# Step 1: Init multiprocessing.Pool()\n",
    "pool = mp.Pool(mp.cpu_count())\n",
    "\n",
    "# Step 2: `pool.apply` the `howmany_within_range()`\n",
    "results = [pool.apply(howmany_within_range, args=(row, 4, 8)) for row in data]\n",
    "\n",
    "# Step 3: Don't forget to close\n",
    "pool.close()    \n",
    "\n",
    "print(results[:10])\n",
    "#> [3, 1, 4, 4, 4, 2, 1, 1, 3, 3]"
   ]
  },
  {
   "cell_type": "code",
   "execution_count": null,
   "metadata": {},
   "outputs": [],
   "source": [
    "# Parallelizing using Pool.map()\n",
    "import multiprocessing as mp\n",
    "\n",
    "# Redefine, with only 1 mandatory argument.\n",
    "def howmany_within_range_rowonly(row, minimum=4, maximum=8):\n",
    "    count = 0\n",
    "    for n in row:\n",
    "        if minimum <= n <= maximum:\n",
    "            count = count + 1\n",
    "    return count\n",
    "\n",
    "pool = mp.Pool(mp.cpu_count())\n",
    "\n",
    "results = pool.map(howmany_within_range_rowonly, [row for row in data])\n",
    "\n",
    "pool.close()\n",
    "\n",
    "print(results[:10])\n",
    "#> [3, 1, 4, 4, 4, 2, 1, 1, 3, 3]"
   ]
  },
  {
   "cell_type": "code",
   "execution_count": null,
   "metadata": {},
   "outputs": [],
   "source": []
  }
 ],
 "metadata": {
  "kernelspec": {
   "display_name": "Gaussian Processes (Python 3)",
   "language": "python",
   "name": "gp"
  },
  "language_info": {
   "codemirror_mode": {
    "name": "ipython",
    "version": 3
   },
   "file_extension": ".py",
   "mimetype": "text/x-python",
   "name": "python",
   "nbconvert_exporter": "python",
   "pygments_lexer": "ipython3",
   "version": "3.6.6"
  }
 },
 "nbformat": 4,
 "nbformat_minor": 2
}
