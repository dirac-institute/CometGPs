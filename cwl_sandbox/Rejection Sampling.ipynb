{
 "cells": [
  {
   "cell_type": "code",
   "execution_count": 1,
   "metadata": {},
   "outputs": [],
   "source": [
    "import numpy as np\n",
    "import pandas as pd\n",
    "import matplotlib.pyplot as plt\n",
    "%matplotlib inline\n",
    "import thejoker\n",
    "import scipy.stats\n",
    "import GP_class\n",
    "import george\n",
    "import numpy.random as rnd"
   ]
  },
  {
   "cell_type": "code",
   "execution_count": 2,
   "metadata": {},
   "outputs": [],
   "source": [
    "def read_data(filename, whitespace=False, datadir=\"./\"):\n",
    "    \"\"\"\n",
    "    Read in light curve data from asteroid.\n",
    "    \"\"\"\n",
    "\n",
    "    data  = pd.read_csv(datadir+filename, header=None, delim_whitespace=whitespace)\n",
    "\n",
    "    tsample = data[0]\n",
    "    fsample = data[1]\n",
    "    flux_err = data[2]\n",
    "\n",
    "    return tsample, fsample, flux_err\n",
    "\n",
    "time, flux, flux_err = read_data(\"../data/simulation_results_new/3200/3200_lc_49627_to_49787.txt_sampled_talc_14days.txt\")"
   ]
  },
  {
   "cell_type": "code",
   "execution_count": 3,
   "metadata": {},
   "outputs": [],
   "source": [
    "# 1 : set up the prior distriubtion\n",
    "\n",
    "prior = scipy.stats.norm(np.log(4./24.), (12./24.))"
   ]
  },
  {
   "cell_type": "code",
   "execution_count": 144,
   "metadata": {},
   "outputs": [],
   "source": [
    "# sample the prior pdf with 100 rvs\n",
    "nsamples = 1000000\n",
    "J = prior.rvs(nsamples)"
   ]
  },
  {
   "cell_type": "code",
   "execution_count": 145,
   "metadata": {},
   "outputs": [],
   "source": [
    "mean_flux = np.mean(flux)\n",
    "log_amp = np.log(flux.max()-flux.min())\n",
    "gamma = 1\n",
    "log_period = 0\n",
    "\n",
    "params = [mean_flux, log_amp, gamma, log_period]"
   ]
  },
  {
   "cell_type": "code",
   "execution_count": 146,
   "metadata": {},
   "outputs": [],
   "source": [
    "kernel = np.exp(log_amp) * george.kernels.ExpSine2Kernel(gamma = gamma, log_period = log_period)\n",
    "gp = george.GP(kernel, fit_mean=True, mean=mean_flux)\n",
    "gp.compute(time, flux_err)"
   ]
  },
  {
   "cell_type": "code",
   "execution_count": 147,
   "metadata": {},
   "outputs": [],
   "source": [
    "# 2: for each j, calculate the log likelihood\n",
    "\n",
    "L_results = np.ones(nsamples)\n",
    "\n",
    "for i in np.arange(nsamples):\n",
    "    \n",
    "    params = [mean_flux, log_amp, gamma, J[i]]\n",
    "    \n",
    "    gp.set_parameter_vector(params)\n",
    "\n",
    "    try:\n",
    "        gp.compute(time, flux_err)\n",
    "        lnlike = gp.log_likelihood(flux)\n",
    "    except np.linalg.LinAlgError:\n",
    "        lnlike = -1e25\n",
    "        \n",
    "    L_results[i] = lnlike"
   ]
  },
  {
   "cell_type": "code",
   "execution_count": 106,
   "metadata": {},
   "outputs": [
    {
     "data": {
      "text/plain": [
       "<matplotlib.legend.Legend at 0x7fe26068c550>"
      ]
     },
     "execution_count": 106,
     "metadata": {},
     "output_type": "execute_result"
    },
    {
     "data": {
      "image/png": "[encoded data removed]",
      "text/plain": [
       "<Figure size 432x288 with 1 Axes>"
      ]
     },
     "metadata": {
      "needs_background": "light"
     },
     "output_type": "display_data"
    }
   ],
   "source": [
    "plt.scatter(np.exp(J)*24., L_results)\n",
    "\n",
    "# plot l_max\n",
    "L_max_period = np.exp(J[np.where(L_results==L_results.max())])*24.\n",
    "plt.vlines(L_max_period, L_results.min(), L_results.max(), label=\"Lmax: %f\" %L_max_period, linestyles='dashed', alpha=0.7)\n",
    "plt.legend()"
   ]
  },
  {
   "cell_type": "code",
   "execution_count": 148,
   "metadata": {},
   "outputs": [
    {
     "data": {
      "text/plain": [
       "(array([   517,    987,   1042,   1193,   1471,   3439,   4840,   4890,\n",
       "          6563,   7077,   8131,  11230,  12623,  14638,  16426,  17255,\n",
       "         17687,  17765,  17786,  18725,  18871,  19232,  21317,  25463,\n",
       "         25484,  26270,  26521,  27532,  28535,  28946,  31188,  31391,\n",
       "         31530,  33308,  34840,  34900,  35551,  37992,  41135,  41545,\n",
       "         41913,  43145,  43297,  44498,  46835,  48496,  49622,  50319,\n",
       "         52386,  52426,  52530,  54629,  55365,  56769,  57379,  57669,\n",
       "         58368,  59117,  59224,  60132,  60768,  62544,  69192,  70422,\n",
       "         70792,  71122,  72285,  73352,  75132,  75815,  76539,  77462,\n",
       "         77557,  78703,  79297,  80224,  81356,  81968,  82010,  82238,\n",
       "         82743,  82948,  85088,  85641,  86943,  87013,  87768,  88088,\n",
       "         89418,  89562,  90782,  90797,  91363,  91695,  91794,  93069,\n",
       "         93817,  94858,  96484,  97688,  98502, 100473, 101289, 104064,\n",
       "        105162, 106302, 108480, 111480, 112046, 112758, 114119, 114157,\n",
       "        115370, 117620, 117717, 118754, 119329, 119485, 120099, 120133,\n",
       "        120327, 120819, 121463, 125371, 126468, 126586, 128066, 129221,\n",
       "        129698, 129784, 131224, 131260, 134904, 135521, 136376, 138006,\n",
       "        142788, 145277, 147674, 148031, 148190, 148504, 154857, 155910,\n",
       "        157016, 157274, 158557, 159674, 160209, 160249, 161164, 163414,\n",
       "        163821, 163963, 165783, 166529, 166714, 167498, 168199, 170897,\n",
       "        171535, 172675, 174598, 175253, 176707, 177086, 177189, 181132,\n",
       "        184133, 184400, 184613, 185865, 186437, 187378, 187721, 188425,\n",
       "        188747, 189039, 189120, 189212, 189980, 190235, 190469, 191132,\n",
       "        196792, 204067, 210397, 213447, 214533, 215134, 215520, 217184,\n",
       "        217500, 218258, 219269, 219356, 222596, 225148, 226085, 226966,\n",
       "        227169, 228111, 229769, 229846, 231264, 232095, 233208, 234089,\n",
       "        234562, 235715, 235918, 237527, 237734, 238053, 239408, 241417,\n",
       "        241599, 242253, 244336, 244475, 246115, 246238, 247461, 247507,\n",
       "        249714, 251478, 252368, 255084, 256488, 256852, 257129, 258270,\n",
       "        258449, 261629, 262051, 262494, 263383, 263439, 263770, 264082,\n",
       "        268902, 269299, 270839, 271160, 272674, 273510, 274062, 276943,\n",
       "        277811, 278108, 280107, 281460, 281563, 281974, 282252, 282526,\n",
       "        283020, 284657, 285013, 286816, 286893, 289562, 289604, 291322,\n",
       "        294198, 294663, 294761, 294903, 295947, 296459, 297232, 302317,\n",
       "        302335, 302699, 302990, 303782, 307833, 307966, 308847, 310672,\n",
       "        311942, 312299, 312474, 313560, 313620, 315379, 320490, 322124,\n",
       "        323150, 325398, 326161, 326360, 326548, 328541, 329236, 330379,\n",
       "        330397, 330420, 334017, 334227, 335019, 335243, 336390, 337167,\n",
       "        339438, 339457, 340342, 340384, 340746, 342099, 343144, 343411,\n",
       "        344513, 344560, 346494, 346705, 347683, 348428, 348592, 348720,\n",
       "        348966, 350842, 351172, 352431, 354129, 354825, 358008, 359279,\n",
       "        359524, 361163, 362635, 363619, 364869, 365138, 365195, 366006,\n",
       "        366632, 367048, 368395, 368751, 369084, 369228, 369961, 369970,\n",
       "        371596, 373603, 373626, 377022, 377640, 379312, 382980, 384114,\n",
       "        384589, 385001, 385772, 386022, 386034, 388275, 394450, 394802,\n",
       "        395424, 395504, 397197, 399754, 399983, 400169, 401110, 401442,\n",
       "        401985, 402222, 402413, 403072, 403074, 403813, 404194, 406382,\n",
       "        406549, 408014, 408927, 409631, 412369, 412443, 413468, 413703,\n",
       "        413969, 414626, 416772, 419051, 420160, 421590, 421858, 422193,\n",
       "        422526, 423727, 423790, 424408, 426068, 427243, 427327, 429512,\n",
       "        431110, 431553, 431743, 433488, 433592, 434482, 435135, 438709,\n",
       "        439251, 439683, 441222, 441582, 441944, 442058, 445514, 446319,\n",
       "        446700, 447630, 447715, 451070, 451666, 451825, 452576, 452797,\n",
       "        458110, 460338, 460784, 460841, 462271, 463789, 464300, 464679,\n",
       "        465069, 465192, 466155, 466657, 468544, 469573, 469641, 469878,\n",
       "        471042, 472626, 473244, 473379, 477038, 478992, 479655, 479656,\n",
       "        480945, 482199, 483676, 486519, 487702, 488146, 488423, 489473,\n",
       "        491775, 493323, 493336, 493785, 496135, 496191, 496301, 496390,\n",
       "        498907, 500980, 501396, 502464, 502870, 503395, 503651, 504118,\n",
       "        505474, 506741, 508755, 509651, 509684, 509752, 511200, 512072,\n",
       "        512165, 512820, 513704, 515662, 516135, 516354, 516441, 516649,\n",
       "        516660, 516824, 517406, 517934, 518526, 518759, 519813, 523282,\n",
       "        524275, 525479, 527854, 528246, 530601, 531008, 532073, 532327,\n",
       "        533117, 534378, 535117, 535696, 536163, 536261, 537515, 538011,\n",
       "        538774, 538891, 539712, 541103, 541326, 541920, 542078, 543451,\n",
       "        544726, 545034, 546162, 546999, 547337, 548387, 549658, 549740,\n",
       "        550862, 551256, 553977, 554015, 554897, 556553, 556853, 557249,\n",
       "        559773, 561077, 561115, 562203, 565917, 566873, 568528, 569365,\n",
       "        570128, 570657, 571516, 571668, 571783, 573011, 573533, 573971,\n",
       "        574685, 576568, 576818, 577448, 577450, 578453, 579238, 579674,\n",
       "        579853, 582744, 583244, 584062, 585703, 586761, 587095, 587944,\n",
       "        589786, 589924, 590366, 590806, 591120, 591415, 592218, 594194,\n",
       "        594589, 595386, 595448, 595496, 595771, 595910, 596090, 596800,\n",
       "        597627, 598695, 600668, 601164, 602896, 604068, 604096, 604179,\n",
       "        604405, 604412, 605019, 605154, 605724, 605884, 607173, 607233,\n",
       "        609318, 612796, 612886, 613155, 613345, 613368, 614153, 615274,\n",
       "        616282, 619226, 621529, 621997, 623001, 623931, 624739, 625393,\n",
       "        626033, 626357, 627229, 629916, 631951, 635034, 635365, 636076,\n",
       "        636389, 636445, 638464, 638511, 638891, 639328, 641008, 642515,\n",
       "        642758, 642996, 645792, 646205, 646883, 648141, 648314, 650849,\n",
       "        650977, 651542, 652023, 653446, 654200, 656148, 656547, 657293,\n",
       "        657755, 658028, 658935, 659268, 659437, 660180, 661299, 661975,\n",
       "        664725, 664926, 665442, 667302, 667810, 667845, 669879, 671108,\n",
       "        672460, 674206, 674386, 674702, 675608, 675704, 678481, 678949,\n",
       "        679814, 684463, 686244, 686285, 687187, 688249, 689145, 689411,\n",
       "        689595, 703839, 703925, 704020, 704417, 704833, 706348, 707000,\n",
       "        708061, 708762, 710412, 712051, 715452, 716250, 717318, 718487,\n",
       "        718680, 721216, 722945, 723181, 723477, 723895, 724718, 725666,\n",
       "        726489, 729129, 731990, 732194, 732360, 732401, 734283, 734342,\n",
       "        734376, 735145, 735987, 736203, 737302, 738081, 740698, 742024,\n",
       "        743169, 746286, 746317, 746427, 747427, 748451, 748664, 750321,\n",
       "        750644, 751814, 752551, 755241, 755787, 756232, 756519, 757638,\n",
       "        760731, 761271, 762247, 763132, 763139, 764345, 766512, 767171,\n",
       "        767347, 768788, 769331, 773632, 774130, 774270, 775133, 780277,\n",
       "        783502, 785726, 787978, 788190, 789661, 789708, 790074, 790536,\n",
       "        790964, 791982, 793137, 794513, 794872, 795452, 797001, 797037,\n",
       "        799109, 801999, 804218, 804342, 806888, 807564, 807675, 808306,\n",
       "        809807, 810526, 810643, 811131, 811281, 811544, 812459, 813480,\n",
       "        813856, 817259, 817482, 817893, 817935, 818517, 819191, 821544,\n",
       "        821909, 822311, 823087, 823300, 823637, 824099, 825241, 825286,\n",
       "        825526, 826097, 827468, 827831, 828469, 830335, 831050, 831165,\n",
       "        831174, 833062, 834111, 835975, 837782, 837785, 838901, 838995,\n",
       "        839067, 840975, 841348, 845019, 847603, 849297, 849349, 851791,\n",
       "        852151, 854428, 855717, 856198, 856201, 859679, 860232, 860567,\n",
       "        863184, 863338, 864663, 865011, 866068, 866307, 867084, 867398,\n",
       "        869989, 870505, 871000, 872032, 873154, 875545, 876565, 876916,\n",
       "        879241, 879778, 879784, 883999, 884751, 885384, 885979, 886786,\n",
       "        888081, 889396, 889799, 890898, 892467, 893276, 893583, 894581,\n",
       "        895058, 895382, 895903, 895913, 896362, 896638, 896802, 898709,\n",
       "        900569, 900720, 900963, 901019, 902173, 902616, 902617, 902686,\n",
       "        907240, 909232, 909306, 909761, 910774, 910955, 911430, 911851,\n",
       "        912303, 913833, 915458, 915529, 916813, 917274, 917347, 919352,\n",
       "        919590, 920298, 920435, 921859, 922031, 922078, 927356, 931291,\n",
       "        932183, 933890, 935453, 936537, 937125, 939607, 939613, 940557,\n",
       "        941844, 943892, 944686, 944958, 946129, 947006, 947477, 947930,\n",
       "        948641, 950261, 951765, 954956, 955931, 956470, 956520, 957968,\n",
       "        958932, 960273, 960600, 961952, 962587, 962725, 963640, 963749,\n",
       "        963916, 965133, 965422, 966564, 967200, 967373, 969287, 969523,\n",
       "        969732, 970587, 972287, 973173, 974535, 974736, 975561, 975600,\n",
       "        977947, 977955, 977983, 980090, 983968, 985836, 986062, 987675,\n",
       "        988890, 990379, 990492, 991098, 991680, 991813, 992497, 993443,\n",
       "        993684, 994049, 994068, 995666, 996021, 996116, 996486, 999058,\n",
       "        999392, 999396]),)"
      ]
     },
     "execution_count": 148,
     "metadata": {},
     "output_type": "execute_result"
    }
   ],
   "source": [
    "np.where(L_results>=0)"
   ]
  },
  {
   "cell_type": "code",
   "execution_count": 107,
   "metadata": {},
   "outputs": [
    {
     "data": {
      "text/plain": [
       "array([2.79730808e+129])"
      ]
     },
     "execution_count": 107,
     "metadata": {},
     "output_type": "execute_result"
    }
   ],
   "source": [
    "# 3 : Pick a random number r out of a uniform distribution between 0 and Lmax\n",
    "uu = rnd.uniform(size=len(L_results))\n",
    "\n",
    "good_samples_bool = uu < np.exp(L_results-L_results.max())\n",
    "good_samples_idx, = np.where(good_samples_bool)"
   ]
  },
  {
   "cell_type": "code",
   "execution_count": 151,
   "metadata": {},
   "outputs": [
    {
     "data": {
      "text/plain": [
       "<matplotlib.legend.Legend at 0x7fe26068c208>"
      ]
     },
     "execution_count": 151,
     "metadata": {},
     "output_type": "execute_result"
    },
    {
     "data": {
      "image/png": "[encoded data removed]",
      "text/plain": [
       "<Figure size 432x288 with 1 Axes>"
      ]
     },
     "metadata": {
      "needs_background": "light"
     },
     "output_type": "display_data"
    }
   ],
   "source": [
    "plt.scatter(np.exp(J)*24., np.exp(L_results-L_results.max()))\n",
    "\n",
    "# plot l_max\n",
    "L_max_period = np.exp(J[np.where(L_results==L_results.max())])*24.\n",
    "plt.vlines(L_max_period, 0, 1, label=\"Lmax: %f\" %L_max_period, linestyles='dashed', alpha=0.7)\n",
    "plt.legend()"
   ]
  },
  {
   "cell_type": "code",
   "execution_count": 152,
   "metadata": {},
   "outputs": [
    {
     "data": {
      "text/plain": [
       "45"
      ]
     },
     "execution_count": 152,
     "metadata": {},
     "output_type": "execute_result"
    }
   ],
   "source": [
    "len(good_samples_idx)"
   ]
  },
  {
   "cell_type": "code",
   "execution_count": null,
   "metadata": {},
   "outputs": [],
   "source": []
  }
 ],
 "metadata": {
  "kernelspec": {
   "display_name": "Python 3",
   "language": "python",
   "name": "python3"
  },
  "language_info": {
   "codemirror_mode": {
    "name": "ipython",
    "version": 3
   },
   "file_extension": ".py",
   "mimetype": "text/x-python",
   "name": "python",
   "nbconvert_exporter": "python",
   "pygments_lexer": "ipython3",
   "version": "3.7.0"
  }
 },
 "nbformat": 4,
 "nbformat_minor": 2
}
