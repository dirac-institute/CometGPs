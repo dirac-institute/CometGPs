{
 "cells": [
  {
   "cell_type": "code",
   "execution_count": 1,
   "metadata": {},
   "outputs": [],
   "source": [
    "#import os\n",
    "#os.environ[\"MKL_NUM_THREADS\"] = \"3\"\n",
    "\n",
    "import numpy as np\n",
    "import matplotlib.pyplot as plt\n",
    "import seaborn as sns\n",
    "import george\n",
    "import emcee\n",
    "import scipy.stats\n",
    "import pandas as pd\n",
    "\n",
    "\n",
    "import plotting\n",
    "\n",
    "import argparse\n",
    "import textwrap\n",
    "\n",
    "\n",
    "def read_data(filename, datadir=\"./\"):\n",
    "    \"\"\"\n",
    "    Read in light curve data from asteroid.\n",
    "    \"\"\"\n",
    "\n",
    "    data  = pd.read_csv(datadir+filename, header=None, delim_whitespace=False)\n",
    "\n",
    "    tsample = data[0]\n",
    "    fsample = data[1]\n",
    "    flux_err = data[2]\n",
    "\n",
    "    return tsample, fsample, flux_err\n",
    "\n",
    "\n",
    "class GPFit():\n",
    "    def __init__(self, time_stamps, flux, flux_error):\n",
    "        self.time = time_stamps\n",
    "        self.flux = flux\n",
    "        self.flux_err = flux_error\n",
    "        self.data_pts = len(time_stamps)\n",
    "        self.true_period = None\n",
    "        self.params = None\n",
    "        self.walker_params = None\n",
    "        self.gp = None\n",
    "        self.sampler = None\n",
    "\n",
    "    def set_params(self):\n",
    "        \"\"\"Calculates initial gp parameter values based on data.\"\"\"\n",
    "        mean_flux = np.mean(self.flux)\n",
    "        log_amp = np.log(self.flux.max()-self.flux.min())\n",
    "        gamma = 1\n",
    "        log_period = 0\n",
    "\n",
    "        parameters = {\"mean\": mean_flux, \"log_amp\": log_amp, \"gamma\": gamma,\"log_period\": log_period}\n",
    "        self.params = parameters\n",
    "        return\n",
    "\n",
    "\n",
    "    def set_walker_param_matrix(self, nwalkers):\n",
    "        \"\"\"Creates a matrix of starting parameters for every walker.\"\"\"\n",
    "\n",
    "        if self.params is not None:\n",
    "\n",
    "            p_start = np.array(list(self.params.values()))\n",
    "            cov_matrix = np.sqrt(np.diag(p_start)**2)\n",
    "            p0 = np.random.multivariate_normal(mean=p_start, cov=cov_matrix, size=(nwalkers))\n",
    "\n",
    "            # equally distributed starting period values\n",
    "            p0[:,3] = np.log(np.linspace(2,12,nwalkers)/24.)\n",
    "\n",
    "            self.walker_params = p0\n",
    "\n",
    "        else:\n",
    "            print(\"Please set parameter values first.\")\n",
    "\n",
    "        return\n",
    "\n",
    "    def set_gp_kernel(self):\n",
    "        \"\"\"Sets up the Gaussian Process Kernel that is needed for george.\"\"\"\n",
    "\n",
    "        kernel = np.exp(self.params[\"log_amp\"]) * george.kernels.ExpSine2Kernel(gamma = self.params[\"gamma\"], log_period = self.params[\"log_period\"])\n",
    "        gp = george.GP(kernel, fit_mean=True, mean=self.params[\"mean\"])\n",
    "        gp.compute(self.time, self.flux_err)\n",
    "\n",
    "        self.gp = gp\n",
    "\n",
    "        return\n",
    "\n",
    "    def run_emcee(self, nwalkers, niter, threads=1):\n",
    "        \"\"\"Runs emcee's mcmc code.\"\"\"\n",
    "\n",
    "        ndim = 4\n",
    "        sampler = emcee.EnsembleSampler(nwalkers, ndim, post_lnlikelihood, args=[self.gp, self.time, self.flux, self.flux_err], threads=threads)\n",
    "\n",
    "        mcmc_sampling = sampler.run_mcmc(self.walker_params, niter)\n",
    "        self.sampler = sampler\n",
    "\n",
    "        return sampler\n",
    "\n",
    "    def run_lsp(self, true_period, nterms):\n",
    "        \"\"\"Determines the Lomb-Scargle Periodogram.\"\"\"\n",
    "\n",
    "        from scipy.signal import argrelextrema\n",
    "\n",
    "        #get l-s best period estimate\n",
    "        from lombscargle import make_lsp\n",
    "        from astropy.stats import LombScargle\n",
    "\n",
    "        freq, power = make_lsp(self.time, self.flux, self.flux_err, p_max=5.0, nterms=nterms)\n",
    "\n",
    "        # determine the indices of local power maxima\n",
    "        best_idx = argrelextrema(power, np.greater)\n",
    "\n",
    "        # sort these indices based on actual power value\n",
    "        # reverse list so max is read first\n",
    "        indices = np.argsort(power[best_idx[0]])[::-1]\n",
    "\n",
    "        # sort our original indices based on the new\n",
    "        # power-sorted indices\n",
    "        best_idx = (best_idx[0]).T[indices]\n",
    "        best_freqs = freq[best_idx].T\n",
    "\n",
    "        new_freq = best_freqs[0]\n",
    "        new_period = 1./new_freq\n",
    "        new_log_period = np.log(1./new_freq)\n",
    "\n",
    "        self.true_period = true_period\n",
    "\n",
    "        # plot all the frequencies\n",
    "        fig, (ax, bx) = plt.subplots(1,2, figsize=(12,5))\n",
    "        fig.set_tight_layout('tight')\n",
    "        ax.plot((1./freq)*24.,power)\n",
    "        ax.set_xlabel('Period (hrs)')\n",
    "        ax.vlines(new_period*24., 0, 1, colors='orange', linestyles='--',\n",
    "                  label = 'Best fit : ' + str(round(new_period*24., 5)))\n",
    "        ax.vlines(true_period, 0, 1, colors='blue', linestyles='--',\n",
    "                  label = 'True fit : ' + str(true_period))\n",
    "        ax.set_xlim([0,24])\n",
    "        ax.legend()\n",
    "\n",
    "        bx = plotting.plot_folded_lightcurve(self.time, self.flux, period=new_period, ax=bx)\n",
    "\n",
    "\n",
    "        namestr=filename + \"_plots\"\n",
    "        plt.savefig(namestr + \"_lsp.pdf\", format=\"pdf\")\n",
    "\n",
    "        return\n",
    "\n",
    "    def daniela_lsp(self, true_period, nterms):\n",
    "        \"\"\"Testing out Daniela's LSP method.\"\"\"\n",
    "\n",
    "        ax = plotting.plot_lsp(self.time, self.flux, self.flux_err, p_max=5.0, true_period=true_period,\n",
    "                                nterms=nterms)\n",
    "        \n",
    "        #bx = plotting.plot_folded_lightcurve(self.time, self.flux, period=new_period, ax=bx)\n",
    "\n",
    "        namestr=filename + \"_plots_daniela\"\n",
    "        plt.savefig(namestr + \"_lsp.pdf\", format=\"pdf\")\n",
    "\n",
    "        return\n",
    "\n",
    "\n",
    "def main():\n",
    "\n",
    "    # read in the data file\n",
    "    time, flux, flux_err= read_data(filename, datadir)\n",
    "\n",
    "    asteroid = GPFit(time, flux, flux_err)\n",
    "    asteroid.daniela_lsp(true_period, nterms)\n",
    "    #asteroid.set_params()\n",
    "    #asteroid.set_walker_param_matrix(nwalkers)\n",
    "    #asteroid.set_gp_kernel()\n",
    "\n",
    "    #sampler = asteroid.run_emcee(niter=niter, nwalkers=nwalkers, threads=threads)\n",
    "\n",
    "    #plot_mcmc_sampling_results(np.array(asteroid.time), asteroid.flux, asteroid.flux_err,\n",
    "    #                           asteroid.gp, sampler, namestr=filename + \"_plots\",\n",
    "    #                           true_period=true_period)\n",
    "\n",
    "\n",
    "    return\n"
   ]
  },
  {
   "cell_type": "code",
   "execution_count": 72,
   "metadata": {},
   "outputs": [],
   "source": [
    " # read in the data file\n",
    "    \n",
    "filename = \"../data/simulation_results_new/221/221_lc_49627_to_49787.txt_sampled_ztf-lsst_60days.txt\"\n",
    "datadir = \"\"\n",
    "true_period = None\n",
    "nterms = 2\n",
    "\n",
    "    \n",
    "time, flux, flux_err= read_data(filename, datadir)\n"
   ]
  },
  {
   "cell_type": "code",
   "execution_count": 73,
   "metadata": {},
   "outputs": [],
   "source": [
    "asteroid = GPFit(time, flux, flux_err)"
   ]
  },
  {
   "cell_type": "code",
   "execution_count": 75,
   "metadata": {},
   "outputs": [
    {
     "name": "stderr",
     "output_type": "stream",
     "text": [
      "/home/christina/anaconda3/lib/python3.7/site-packages/matplotlib/figure.py:2299: UserWarning: This figure includes Axes that are not compatible with tight_layout, so results might be incorrect.\n",
      "  warnings.warn(\"This figure includes Axes that are not compatible \"\n"
     ]
    },
    {
     "data": {
      "image/png": "[encoded data removed]",
      "text/plain": [
       "<Figure size 864x360 with 2 Axes>"
      ]
     },
     "metadata": {
      "needs_background": "light"
     },
     "output_type": "display_data"
    }
   ],
   "source": [
    "asteroid.run_lsp(true_period, nterms)"
   ]
  },
  {
   "cell_type": "code",
   "execution_count": 89,
   "metadata": {},
   "outputs": [],
   "source": [
    "percentile_range = np.percentile(time, [5,95])"
   ]
  },
  {
   "cell_type": "code",
   "execution_count": 90,
   "metadata": {},
   "outputs": [
    {
     "data": {
      "text/plain": [
       "array([2449630.44126991, 2449683.57880445])"
      ]
     },
     "execution_count": 90,
     "metadata": {},
     "output_type": "execute_result"
    }
   ],
   "source": [
    "percentile_range"
   ]
  },
  {
   "cell_type": "code",
   "execution_count": 7,
   "metadata": {},
   "outputs": [],
   "source": [
    "tdiff = np.ones_like(np.arange(50))*0.00087974"
   ]
  },
  {
   "cell_type": "code",
   "execution_count": 8,
   "metadata": {},
   "outputs": [
    {
     "data": {
      "text/plain": [
       "array([0.00087974, 0.00087974, 0.00087974, 0.00087974, 0.00087974,\n",
       "       0.00087974, 0.00087974, 0.00087974, 0.00087974, 0.00087974,\n",
       "       0.00087974, 0.00087974, 0.00087974, 0.00087974, 0.00087974,\n",
       "       0.00087974, 0.00087974, 0.00087974, 0.00087974, 0.00087974,\n",
       "       0.00087974, 0.00087974, 0.00087974, 0.00087974, 0.00087974,\n",
       "       0.00087974, 0.00087974, 0.00087974, 0.00087974, 0.00087974,\n",
       "       0.00087974, 0.00087974, 0.00087974, 0.00087974, 0.00087974,\n",
       "       0.00087974, 0.00087974, 0.00087974, 0.00087974, 0.00087974,\n",
       "       0.00087974, 0.00087974, 0.00087974, 0.00087974, 0.00087974,\n",
       "       0.00087974, 0.00087974, 0.00087974, 0.00087974, 0.00087974])"
      ]
     },
     "execution_count": 8,
     "metadata": {},
     "output_type": "execute_result"
    }
   ],
   "source": [
    "tdiff"
   ]
  },
  {
   "cell_type": "code",
   "execution_count": 22,
   "metadata": {},
   "outputs": [],
   "source": [
    "idx = np.where(tdiff < 0)[0]"
   ]
  },
  {
   "cell_type": "code",
   "execution_count": 23,
   "metadata": {},
   "outputs": [
    {
     "data": {
      "text/plain": [
       "0"
      ]
     },
     "execution_count": 23,
     "metadata": {},
     "output_type": "execute_result"
    }
   ],
   "source": [
    "idx.size"
   ]
  },
  {
   "cell_type": "code",
   "execution_count": 24,
   "metadata": {},
   "outputs": [],
   "source": [
    "if idx.size == 0:\n",
    "    idx = np.array(0)"
   ]
  },
  {
   "cell_type": "code",
   "execution_count": 29,
   "metadata": {},
   "outputs": [
    {
     "data": {
      "text/plain": [
       "array(0)"
      ]
     },
     "execution_count": 29,
     "metadata": {},
     "output_type": "execute_result"
    }
   ],
   "source": [
    "idx"
   ]
  },
  {
   "cell_type": "code",
   "execution_count": 26,
   "metadata": {},
   "outputs": [
    {
     "data": {
      "text/plain": [
       "numpy.ndarray"
      ]
     },
     "execution_count": 26,
     "metadata": {},
     "output_type": "execute_result"
    }
   ],
   "source": [
    "type(idx)"
   ]
  },
  {
   "cell_type": "code",
   "execution_count": null,
   "metadata": {},
   "outputs": [],
   "source": []
  }
 ],
 "metadata": {
  "kernelspec": {
   "display_name": "Python 3",
   "language": "python",
   "name": "python3"
  },
  "language_info": {
   "codemirror_mode": {
    "name": "ipython",
    "version": 3
   },
   "file_extension": ".py",
   "mimetype": "text/x-python",
   "name": "python",
   "nbconvert_exporter": "python",
   "pygments_lexer": "ipython3",
   "version": "3.7.0"
  }
 },
 "nbformat": 4,
 "nbformat_minor": 2
}
