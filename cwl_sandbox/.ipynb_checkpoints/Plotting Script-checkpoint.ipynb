{
 "cells": [
  {
   "cell_type": "code",
   "execution_count": 2,
   "metadata": {},
   "outputs": [],
   "source": [
    "import numpy as np\n",
    "import pandas as pd\n",
    "import george\n",
    "import matplotlib.pyplot as plt\n",
    "import corner\n",
    "from plotting import plot_folded_lightcurve, plot_lightcurve, plot_steps\n",
    "from run_plotting_script import run_plotting_script\n",
    "\n",
    "def read_chain(file_name, shape):\n",
    "    new_data = np.genfromtxt(file_name, delimiter=' ')\n",
    "    # data shape can be found as the first commented line in the txt file\n",
    "    new_data = new_data.reshape(shape)\n",
    "    return new_data\n",
    "\n",
    "def read_data(filename, datadir=\"./\"):\n",
    "    \"\"\"\n",
    "    Read in light curve data from asteroid.\n",
    "    \"\"\"\n",
    "\n",
    "    data  = pd.read_csv(datadir+filename, header=None, delim_whitespace=False)\n",
    "\n",
    "    tsample = data[0]\n",
    "    fsample = data[1]\n",
    "    flux_err = data[2]\n",
    "    data_pts = len(tsample)\n",
    "\n",
    "    return tsample, fsample, flux_err, data_pts\n",
    "\n",
    "def generate_gp(params, fsample, flux_err):\n",
    "\n",
    "    \"\"\"\n",
    "    Sets up the initial parameters for all the walkers using optimized\n",
    "    parameter values as starting values. The function generates a\n",
    "    scattered multivatiate gaussian distribution of starting parameter\n",
    "    values.\n",
    "\n",
    "    Parameters\n",
    "    ----------\n",
    "    params : list\n",
    "        List of all kernel parameters.\n",
    "\n",
    "    Returns\n",
    "    -------\n",
    "    p0 : numpy.ndarray\n",
    "        The initial walker parameters [nwalker, ndim]\n",
    "\n",
    "    gp : george.gp.GP\n",
    "        GP kernel set with the optimized parameter values.\n",
    "\n",
    "    \"\"\"\n",
    "\n",
    "\n",
    "    gp_mean, log_amp, gamma, log_period = params\n",
    "    amp = np.exp(log_amp)\n",
    "\n",
    "    kernel = amp * george.kernels.ExpSine2Kernel(gamma = gamma, log_period = log_period)\n",
    "    gp = george.GP(kernel, fit_mean=True, mean=gp_mean)\n",
    "    gp.compute(fsample, flux_err)\n",
    "\n",
    "    return gp\n",
    "\n",
    "def plot_steps_from_saved(results, dims=None, data_pts=None):\n",
    "    fig, ax = plt.subplots(2, 2, figsize=(7,6))\n",
    "    fig.subplots_adjust(wspace=0.25, hspace=0.3)\n",
    "\n",
    "    fig.suptitle(\"Data points: \" + str(data_pts))\n",
    "\n",
    "    axs = [ax[0,0], ax[0,1], ax[1,0], ax[1,1]]\n",
    "\n",
    "    iterations = np.arange(results.shape[1])\n",
    "\n",
    "    for i in range(results.shape[2]):\n",
    "        axs[i].set_xlabel('Step Number')\n",
    "        axs[i].set_ylabel('{}'.format(dims[i]))\n",
    "\n",
    "        for j in range(results.shape[0]):\n",
    "            param = results[j,:,i]\n",
    "            axs[i].plot(iterations, param, 'k-', alpha=0.3)\n",
    "\n",
    "    return axs"
   ]
  },
  {
   "cell_type": "code",
   "execution_count": null,
   "metadata": {},
   "outputs": [],
   "source": []
  },
  {
   "cell_type": "code",
   "execution_count": null,
   "metadata": {
    "scrolled": true
   },
   "outputs": [],
   "source": []
  },
  {
   "cell_type": "code",
   "execution_count": 1,
   "metadata": {
    "scrolled": false
   },
   "outputs": [],
   "source": [
    "def plot_sampling_results(data_file, sample_file, results_file, results_shape, days, \n",
    "                          true_period=None, name_str=\"test\", nmodels=10, npred=10000):\n",
    "    tsample, fsample, flux_err, data_pts = read_data(sample_file)\n",
    "    results = read_chain(results_file, results_shape)\n",
    "    data = pd.read_csv(data_file, delimiter=' ',\n",
    "                     header=None, names=['time','flux'], dtype={'time':float, 'flux':float})\n",
    "\n",
    "    # convert days to points\n",
    "    span = 2880 * days\n",
    "    start_pt = 0\n",
    "\n",
    "    time = np.array(data.time[start_pt:span+start_pt])\n",
    "    flux = np.array(data.flux[start_pt:span+start_pt])\n",
    "\n",
    "    true_lightcurve = [time, flux]\n",
    "\n",
    "    results_flat = results.reshape(results.shape[0]*results.shape[1],results.shape[2])\n",
    "\n",
    "    idx = np.random.choice(np.arange(0, results.shape[0] ,1, dtype=int), size=nmodels)\n",
    "    print(idx)\n",
    "\n",
    "    t_pred = np.linspace(tsample[0], tsample.iloc[-1], npred)\n",
    "    m_all = np.zeros((nmodels, t_pred.shape[0]))\n",
    "\n",
    "    params = [np.mean(fsample), (np.log(fsample.max()-fsample.min())), 1, np.mean(results.T[3])]\n",
    "\n",
    "    gp = generate_gp(params, fsample, flux_err)\n",
    "\n",
    "\n",
    "    # loop through the indices of samples, for each sample from the GP\n",
    "    # conditional on the data points\n",
    "    for i,j in enumerate(idx):\n",
    "        #only selects from the last step in the chain\n",
    "        p = results[j, results.shape[1]-1]\n",
    "        print(p)\n",
    "        pnew = [p[0], p[1], p[2], p[3]]\n",
    "\n",
    "        gp.set_parameter_vector(pnew)\n",
    "        mean_model = gp.sample_conditional(fsample, t_pred)\n",
    "        m_all[i] = mean_model\n",
    "\n",
    "    x = np.random.choice(idx)\n",
    "\n",
    "    guess_period = np.exp(results[x,results.shape[1]-1][3])\n",
    "    print(x)\n",
    "\n",
    "\n",
    "    fig, ax = plt.subplots(1, 1, figsize=(6,4))\n",
    "\n",
    "    plot_lightcurve(tsample, fsample, true_lightcurve=true_lightcurve,\n",
    "                        models=(t_pred, m_all), ax=ax)\n",
    "\n",
    "    plt.tight_layout()\n",
    "    plt.savefig(namestr + \"_lc.pdf\", format=\"pdf\")\n",
    "\n",
    "    # plot folded light curve\n",
    "    fig, ax = plt.subplots(1, 1, figsize=(6,4))\n",
    "\n",
    "\n",
    "    if true_period:\n",
    "        ax = plot_folded_lightcurve(tsample, fsample, guess_period, flux_err=0.01,\n",
    "                          models=[t_pred, m_all[:2]],\n",
    "                          true_lightcurve=true_lightcurve, ax=ax, use_radians=False)\n",
    "    else:\n",
    "        ax = plot_folded_lightcurve(tsample, fsample, guess_period, flux_err=flux_err,\n",
    "                          models=[t_pred, m_all[:2]],\n",
    "                          true_lightcurve=true_lightcurve, ax=ax, use_radians=False)\n",
    "\n",
    "    plt.tight_layout()\n",
    "    plt.savefig(namestr + \"_folded_lc.pdf\", format=\"pdf\")\n",
    "\n",
    "\n",
    "    # plot histogram of periods\n",
    "    fig, ax = plt.subplots(1, 1, figsize=(5,4))\n",
    "    ax.hist(np.exp(results_flat[:,-1])*24, bins=100, density=True,\n",
    "                label=\"posterior PDF\", color=\"black\", alpha=0.5)\n",
    "\n",
    "    if true_period is not None:\n",
    "        ylim = ax.get_ylim()\n",
    "        ax.vlines(true_period, 0, ylim[-1], lw=1, color=\"red\", linestyle=\"dashed\", label=\"true period : \" + str(true_period))\n",
    "\n",
    "    ax.set_xlabel(\"Period in hours\")\n",
    "    ax.set_ylabel(\"Probability\")\n",
    "    ax.legend()\n",
    "\n",
    "    plt.tight_layout()\n",
    "    plt.savefig(namestr + \"_period_pdf.pdf\", format=\"pdf\")\n",
    "\n",
    "    #convert period values from log days to hours\n",
    "    results_hours = np.array(results.reshape(results.shape[0]*results.shape[1],results.shape[2]))\n",
    "    results_hours.T[3] = np.exp(results_hours.T[3])*24.\n",
    "\n",
    "    labels = list(gp.parameter_names)\n",
    "    labels[3] = 'period hours'\n",
    "\n",
    "    # make a corner plot\n",
    "    corner.corner(results_hours[int(-len(results_flat)*0.1):], labels=labels)\n",
    "\n",
    "    # save to file\n",
    "    plt.savefig(namestr + \"_corner.pdf\", format=\"pdf\")\n",
    "\n",
    "    #plot trace plot\n",
    "    ax = plot_steps_from_saved(results_hours.reshape(results.shape[0],results.shape[1],results.shape[2]), dims = ['mean', 'log_amp', 'gamma', 'period'], data_pts=data_pts)\n",
    "    plt.savefig(namestr + \"_trace.pdf\", format=\"pdf\")\n"
   ]
  },
  {
   "cell_type": "code",
   "execution_count": 4,
   "metadata": {},
   "outputs": [
    {
     "ename": "ValueError",
     "evalue": "could not convert string to float: '2.449627498976254370e+06,1.005147602204496282e+00,1.704249409715715259e-03'",
     "output_type": "error",
     "traceback": [
      "\u001b[0;31m---------------------------------------------------------------------------\u001b[0m",
      "\u001b[0;31mTypeError\u001b[0m                                 Traceback (most recent call last)",
      "\u001b[0;32mpandas/_libs/parsers.pyx\u001b[0m in \u001b[0;36mpandas._libs.parsers.TextReader._convert_tokens\u001b[0;34m()\u001b[0m\n",
      "\u001b[0;31mTypeError\u001b[0m: Cannot cast array from dtype('O') to dtype('float64') according to the rule 'safe'",
      "\nDuring handling of the above exception, another exception occurred:\n",
      "\u001b[0;31mValueError\u001b[0m                                Traceback (most recent call last)",
      "\u001b[0;32m<ipython-input-4-7ef919773a0c>\u001b[0m in \u001b[0;36m<module>\u001b[0;34m()\u001b[0m\n\u001b[1;32m      2\u001b[0m                     \u001b[0;34m\"../data/221_lc_49627_to_49787.txt_sampled_semi-dense_60days_equal_dist\"\u001b[0m\u001b[0;34m,\u001b[0m\u001b[0;34m\u001b[0m\u001b[0m\n\u001b[1;32m      3\u001b[0m                     \u001b[0;34m\"../data/221_lc_49627_to_49787.txt_sampled_semi-dense_60days_equal_dist_results.txt\"\u001b[0m\u001b[0;34m,\u001b[0m\u001b[0;34m\u001b[0m\u001b[0m\n\u001b[0;32m----> 4\u001b[0;31m                     \"100,10000,4\", 60, 10.433)\n\u001b[0m",
      "\u001b[0;32m~/CometGPs/cwl_sandbox/run_plotting_script.py\u001b[0m in \u001b[0;36mrun_plotting_script\u001b[0;34m(data_file, sample_file, results_file, results_shape, days, true_period, name_str, nmodels, npred)\u001b[0m\n\u001b[1;32m     89\u001b[0m     \u001b[0mresults\u001b[0m \u001b[0;34m=\u001b[0m \u001b[0mread_chain\u001b[0m\u001b[0;34m(\u001b[0m\u001b[0mresults_file\u001b[0m\u001b[0;34m,\u001b[0m \u001b[0mresults_shape\u001b[0m\u001b[0;34m)\u001b[0m\u001b[0;34m\u001b[0m\u001b[0m\n\u001b[1;32m     90\u001b[0m     data = pd.read_csv(data_file, delimiter=' ',\n\u001b[0;32m---> 91\u001b[0;31m                      header=None, names=['time','flux'], dtype={'time':float, 'flux':float})\n\u001b[0m\u001b[1;32m     92\u001b[0m \u001b[0;34m\u001b[0m\u001b[0m\n\u001b[1;32m     93\u001b[0m     \u001b[0;31m# convert days to points\u001b[0m\u001b[0;34m\u001b[0m\u001b[0;34m\u001b[0m\u001b[0m\n",
      "\u001b[0;32m~/anaconda3/lib/python3.7/site-packages/pandas/io/parsers.py\u001b[0m in \u001b[0;36mparser_f\u001b[0;34m(filepath_or_buffer, sep, delimiter, header, names, index_col, usecols, squeeze, prefix, mangle_dupe_cols, dtype, engine, converters, true_values, false_values, skipinitialspace, skiprows, nrows, na_values, keep_default_na, na_filter, verbose, skip_blank_lines, parse_dates, infer_datetime_format, keep_date_col, date_parser, dayfirst, iterator, chunksize, compression, thousands, decimal, lineterminator, quotechar, quoting, escapechar, comment, encoding, dialect, tupleize_cols, error_bad_lines, warn_bad_lines, skipfooter, doublequote, delim_whitespace, low_memory, memory_map, float_precision)\u001b[0m\n\u001b[1;32m    676\u001b[0m                     skip_blank_lines=skip_blank_lines)\n\u001b[1;32m    677\u001b[0m \u001b[0;34m\u001b[0m\u001b[0m\n\u001b[0;32m--> 678\u001b[0;31m         \u001b[0;32mreturn\u001b[0m \u001b[0m_read\u001b[0m\u001b[0;34m(\u001b[0m\u001b[0mfilepath_or_buffer\u001b[0m\u001b[0;34m,\u001b[0m \u001b[0mkwds\u001b[0m\u001b[0;34m)\u001b[0m\u001b[0;34m\u001b[0m\u001b[0m\n\u001b[0m\u001b[1;32m    679\u001b[0m \u001b[0;34m\u001b[0m\u001b[0m\n\u001b[1;32m    680\u001b[0m     \u001b[0mparser_f\u001b[0m\u001b[0;34m.\u001b[0m\u001b[0m__name__\u001b[0m \u001b[0;34m=\u001b[0m \u001b[0mname\u001b[0m\u001b[0;34m\u001b[0m\u001b[0m\n",
      "\u001b[0;32m~/anaconda3/lib/python3.7/site-packages/pandas/io/parsers.py\u001b[0m in \u001b[0;36m_read\u001b[0;34m(filepath_or_buffer, kwds)\u001b[0m\n\u001b[1;32m    444\u001b[0m \u001b[0;34m\u001b[0m\u001b[0m\n\u001b[1;32m    445\u001b[0m     \u001b[0;32mtry\u001b[0m\u001b[0;34m:\u001b[0m\u001b[0;34m\u001b[0m\u001b[0m\n\u001b[0;32m--> 446\u001b[0;31m         \u001b[0mdata\u001b[0m \u001b[0;34m=\u001b[0m \u001b[0mparser\u001b[0m\u001b[0;34m.\u001b[0m\u001b[0mread\u001b[0m\u001b[0;34m(\u001b[0m\u001b[0mnrows\u001b[0m\u001b[0;34m)\u001b[0m\u001b[0;34m\u001b[0m\u001b[0m\n\u001b[0m\u001b[1;32m    447\u001b[0m     \u001b[0;32mfinally\u001b[0m\u001b[0;34m:\u001b[0m\u001b[0;34m\u001b[0m\u001b[0m\n\u001b[1;32m    448\u001b[0m         \u001b[0mparser\u001b[0m\u001b[0;34m.\u001b[0m\u001b[0mclose\u001b[0m\u001b[0;34m(\u001b[0m\u001b[0;34m)\u001b[0m\u001b[0;34m\u001b[0m\u001b[0m\n",
      "\u001b[0;32m~/anaconda3/lib/python3.7/site-packages/pandas/io/parsers.py\u001b[0m in \u001b[0;36mread\u001b[0;34m(self, nrows)\u001b[0m\n\u001b[1;32m   1034\u001b[0m                 \u001b[0;32mraise\u001b[0m \u001b[0mValueError\u001b[0m\u001b[0;34m(\u001b[0m\u001b[0;34m'skipfooter not supported for iteration'\u001b[0m\u001b[0;34m)\u001b[0m\u001b[0;34m\u001b[0m\u001b[0m\n\u001b[1;32m   1035\u001b[0m \u001b[0;34m\u001b[0m\u001b[0m\n\u001b[0;32m-> 1036\u001b[0;31m         \u001b[0mret\u001b[0m \u001b[0;34m=\u001b[0m \u001b[0mself\u001b[0m\u001b[0;34m.\u001b[0m\u001b[0m_engine\u001b[0m\u001b[0;34m.\u001b[0m\u001b[0mread\u001b[0m\u001b[0;34m(\u001b[0m\u001b[0mnrows\u001b[0m\u001b[0;34m)\u001b[0m\u001b[0;34m\u001b[0m\u001b[0m\n\u001b[0m\u001b[1;32m   1037\u001b[0m \u001b[0;34m\u001b[0m\u001b[0m\n\u001b[1;32m   1038\u001b[0m         \u001b[0;31m# May alter columns / col_dict\u001b[0m\u001b[0;34m\u001b[0m\u001b[0;34m\u001b[0m\u001b[0m\n",
      "\u001b[0;32m~/anaconda3/lib/python3.7/site-packages/pandas/io/parsers.py\u001b[0m in \u001b[0;36mread\u001b[0;34m(self, nrows)\u001b[0m\n\u001b[1;32m   1846\u001b[0m     \u001b[0;32mdef\u001b[0m \u001b[0mread\u001b[0m\u001b[0;34m(\u001b[0m\u001b[0mself\u001b[0m\u001b[0;34m,\u001b[0m \u001b[0mnrows\u001b[0m\u001b[0;34m=\u001b[0m\u001b[0;32mNone\u001b[0m\u001b[0;34m)\u001b[0m\u001b[0;34m:\u001b[0m\u001b[0;34m\u001b[0m\u001b[0m\n\u001b[1;32m   1847\u001b[0m         \u001b[0;32mtry\u001b[0m\u001b[0;34m:\u001b[0m\u001b[0;34m\u001b[0m\u001b[0m\n\u001b[0;32m-> 1848\u001b[0;31m             \u001b[0mdata\u001b[0m \u001b[0;34m=\u001b[0m \u001b[0mself\u001b[0m\u001b[0;34m.\u001b[0m\u001b[0m_reader\u001b[0m\u001b[0;34m.\u001b[0m\u001b[0mread\u001b[0m\u001b[0;34m(\u001b[0m\u001b[0mnrows\u001b[0m\u001b[0;34m)\u001b[0m\u001b[0;34m\u001b[0m\u001b[0m\n\u001b[0m\u001b[1;32m   1849\u001b[0m         \u001b[0;32mexcept\u001b[0m \u001b[0mStopIteration\u001b[0m\u001b[0;34m:\u001b[0m\u001b[0;34m\u001b[0m\u001b[0m\n\u001b[1;32m   1850\u001b[0m             \u001b[0;32mif\u001b[0m \u001b[0mself\u001b[0m\u001b[0;34m.\u001b[0m\u001b[0m_first_chunk\u001b[0m\u001b[0;34m:\u001b[0m\u001b[0;34m\u001b[0m\u001b[0m\n",
      "\u001b[0;32mpandas/_libs/parsers.pyx\u001b[0m in \u001b[0;36mpandas._libs.parsers.TextReader.read\u001b[0;34m()\u001b[0m\n",
      "\u001b[0;32mpandas/_libs/parsers.pyx\u001b[0m in \u001b[0;36mpandas._libs.parsers.TextReader._read_low_memory\u001b[0;34m()\u001b[0m\n",
      "\u001b[0;32mpandas/_libs/parsers.pyx\u001b[0m in \u001b[0;36mpandas._libs.parsers.TextReader._read_rows\u001b[0;34m()\u001b[0m\n",
      "\u001b[0;32mpandas/_libs/parsers.pyx\u001b[0m in \u001b[0;36mpandas._libs.parsers.TextReader._convert_column_data\u001b[0;34m()\u001b[0m\n",
      "\u001b[0;32mpandas/_libs/parsers.pyx\u001b[0m in \u001b[0;36mpandas._libs.parsers.TextReader._convert_tokens\u001b[0;34m()\u001b[0m\n",
      "\u001b[0;31mValueError\u001b[0m: could not convert string to float: '2.449627498976254370e+06,1.005147602204496282e+00,1.704249409715715259e-03'"
     ]
    }
   ],
   "source": [
    "run_plotting_script(\"../data/221_lc_49627_to_49787.txt_sampled\",\n",
    "                    \"../data/221_lc_49627_to_49787.txt_sampled_semi-dense_60days_equal_dist\",\n",
    "                    \"../data/221_lc_49627_to_49787.txt_sampled_semi-dense_60days_equal_dist_results.txt\",\n",
    "                    \"100,10000,4\", 60, 10.433)"
   ]
  },
  {
   "cell_type": "code",
   "execution_count": null,
   "metadata": {},
   "outputs": [],
   "source": [
    "x = 1\n",
    "results_shape = \"100, 10000, 4\""
   ]
  },
  {
   "cell_type": "code",
   "execution_count": null,
   "metadata": {},
   "outputs": [],
   "source": [
    "x= map(int, results_shape.split(','))"
   ]
  },
  {
   "cell_type": "code",
   "execution_count": null,
   "metadata": {},
   "outputs": [],
   "source": [
    "y = [int(s) for s in results_shape.split(',')]"
   ]
  },
  {
   "cell_type": "code",
   "execution_count": null,
   "metadata": {},
   "outputs": [],
   "source": [
    "y"
   ]
  },
  {
   "cell_type": "code",
   "execution_count": null,
   "metadata": {},
   "outputs": [],
   "source": [
    "results_shape = results_shape.split(',')"
   ]
  },
  {
   "cell_type": "code",
   "execution_count": null,
   "metadata": {},
   "outputs": [],
   "source": [
    "type(results_shape)"
   ]
  },
  {
   "cell_type": "code",
   "execution_count": null,
   "metadata": {},
   "outputs": [],
   "source": [
    "results_shape"
   ]
  },
  {
   "cell_type": "code",
   "execution_count": null,
   "metadata": {},
   "outputs": [],
   "source": [
    "results = read_chain(\"../data/221_lc_49627_to_49787.txt_sampled_semi-dense_60days_equal_dist_results.txt\", y)"
   ]
  },
  {
   "cell_type": "code",
   "execution_count": null,
   "metadata": {},
   "outputs": [],
   "source": [
    "results.shape"
   ]
  },
  {
   "cell_type": "code",
   "execution_count": null,
   "metadata": {},
   "outputs": [],
   "source": []
  }
 ],
 "metadata": {
  "kernelspec": {
   "display_name": "Python 3",
   "language": "python",
   "name": "python3"
  },
  "language_info": {
   "codemirror_mode": {
    "name": "ipython",
    "version": 3
   },
   "file_extension": ".py",
   "mimetype": "text/x-python",
   "name": "python",
   "nbconvert_exporter": "python",
   "pygments_lexer": "ipython3",
   "version": "3.7.0"
  }
 },
 "nbformat": 4,
 "nbformat_minor": 2
}
