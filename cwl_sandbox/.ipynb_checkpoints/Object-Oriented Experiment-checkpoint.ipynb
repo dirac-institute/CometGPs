{
 "cells": [
  {
   "cell_type": "code",
   "execution_count": 1,
   "metadata": {},
   "outputs": [],
   "source": [
    "import numpy as np\n",
    "import matplotlib.pyplot as plt\n",
    "import george"
   ]
  },
  {
   "cell_type": "code",
   "execution_count": 13,
   "metadata": {},
   "outputs": [],
   "source": [
    "class GPFit():\n",
    "    def __init__(self, time_stamps, flux, flux_error):\n",
    "        self.time = time_stamps\n",
    "        self.flux = flux\n",
    "        self.flux_err = flux_error\n",
    "        self.data_pts = len(time_stamps)\n",
    "        self.true_period = None\n",
    "        self.params = None\n",
    "        self.walker_params = None\n",
    "        self.gp = None\n",
    "        \n",
    "    def set_params(self):\n",
    "        \"\"\"Calculates initial gp parameter values based on data.\"\"\"\n",
    "        mean_flux = np.mean(self.flux)\n",
    "        log_amp = np.log(self.flux.max()-self.flux.min())\n",
    "        gamma = 1\n",
    "        log_period = 0\n",
    "        \n",
    "        parameters = {\"mean\": mean_flux, \"log_amp\": log_amp, \"gamma\": gamma,\"log_period\": log_period}\n",
    "        self.params = parameters\n",
    "        return\n",
    "        \n",
    "        \n",
    "    def set_walker_param_matrix(self, nwalkers):\n",
    "        \"\"\"Creates a matrix of starting parameters for every walker.\"\"\"\n",
    "        \n",
    "        if self.params is not None: \n",
    "            \n",
    "            p_start = np.array(list(self.params.values()))\n",
    "            cov_matrix = np.sqrt(np.diag(p_start)**2)\n",
    "            p0 = np.random.multivariate_normal(mean=p_start, cov=cov_matrix, size=(nwalkers))\n",
    "    \n",
    "            # equally distributed starting period values\n",
    "            p0[:,3] = np.log(np.linspace(2,12,nwalkers)/24.)\n",
    "        \n",
    "            self.walker_params = p0\n",
    "            \n",
    "        else: \n",
    "            print(\"Please set parameter values first.\")\n",
    "\n",
    "        return\n",
    "    \n",
    "    def get_gp_kernel(self):\n",
    "        \"\"\"Sets up the Gaussian Process Kernel that is needed for george.\"\"\"\n",
    "        \n",
    "        kernel = np.exp(self.params[\"log_amp\"]) * george.kernels.ExpSine2Kernel(gamma = self.params[\"gamma\"], log_period = self.params[\"log_period\"])\n",
    "        gp = george.GP(kernel, fit_mean=True, mean=self.params[\"mean\"])\n",
    "        gp.compute(self.time, self.flux_err)\n",
    "        \n",
    "        self.gp = gp\n",
    "        \n",
    "        return gp\n",
    "    \n",
    "    \n",
    "    \n",
    "    \n"
   ]
  },
  {
   "cell_type": "code",
   "execution_count": 3,
   "metadata": {},
   "outputs": [],
   "source": [
    "time = np.linspace(0, 100, 30)\n",
    "flux = np.linspace(14, 17, 30)\n",
    "flux_err = np.ones(30)*0.1"
   ]
  },
  {
   "cell_type": "code",
   "execution_count": 4,
   "metadata": {},
   "outputs": [],
   "source": [
    "x = np.sin(flux*5)\n",
    "flux = flux + x"
   ]
  },
  {
   "cell_type": "code",
   "execution_count": 5,
   "metadata": {},
   "outputs": [
    {
     "data": {
      "text/plain": [
       "[<matplotlib.lines.Line2D at 0x7f1c60781e48>]"
      ]
     },
     "execution_count": 5,
     "metadata": {},
     "output_type": "execute_result"
    },
    {
     "data": {
      "image/png": "[encoded data removed]",
      "text/plain": [
       "<Figure size 432x288 with 1 Axes>"
      ]
     },
     "metadata": {
      "needs_background": "light"
     },
     "output_type": "display_data"
    }
   ],
   "source": [
    "plt.plot(time, flux)"
   ]
  },
  {
   "cell_type": "code",
   "execution_count": 6,
   "metadata": {},
   "outputs": [],
   "source": [
    "asteroid = GPFit(time, flux, flux_err)"
   ]
  },
  {
   "cell_type": "code",
   "execution_count": 7,
   "metadata": {},
   "outputs": [],
   "source": [
    "asteroid.set_params()"
   ]
  },
  {
   "cell_type": "code",
   "execution_count": 8,
   "metadata": {},
   "outputs": [],
   "source": [
    "asteroid.set_walker_param_matrix(10)"
   ]
  },
  {
   "cell_type": "code",
   "execution_count": 14,
   "metadata": {},
   "outputs": [
    {
     "ename": "AttributeError",
     "evalue": "'GPFit' object has no attribute 'get_gp_kernel'",
     "output_type": "error",
     "traceback": [
      "\u001b[0;31m---------------------------------------------------------------------------\u001b[0m",
      "\u001b[0;31mAttributeError\u001b[0m                            Traceback (most recent call last)",
      "\u001b[0;32m<ipython-input-14-8ef47dae8492>\u001b[0m in \u001b[0;36m<module>\u001b[0;34m()\u001b[0m\n\u001b[0;32m----> 1\u001b[0;31m \u001b[0mkernel\u001b[0m \u001b[0;34m=\u001b[0m \u001b[0masteroid\u001b[0m\u001b[0;34m.\u001b[0m\u001b[0mget_gp_kernel\u001b[0m\u001b[0;34m(\u001b[0m\u001b[0;34m)\u001b[0m\u001b[0;34m\u001b[0m\u001b[0m\n\u001b[0m",
      "\u001b[0;31mAttributeError\u001b[0m: 'GPFit' object has no attribute 'get_gp_kernel'"
     ]
    }
   ],
   "source": [
    "kernel = asteroid.get_gp_kernel()"
   ]
  },
  {
   "cell_type": "code",
   "execution_count": null,
   "metadata": {},
   "outputs": [],
   "source": [
    "gp.c"
   ]
  }
 ],
 "metadata": {
  "kernelspec": {
   "display_name": "Python 3",
   "language": "python",
   "name": "python3"
  },
  "language_info": {
   "codemirror_mode": {
    "name": "ipython",
    "version": 3
   },
   "file_extension": ".py",
   "mimetype": "text/x-python",
   "name": "python",
   "nbconvert_exporter": "python",
   "pygments_lexer": "ipython3",
   "version": "3.7.0"
  }
 },
 "nbformat": 4,
 "nbformat_minor": 2
}
