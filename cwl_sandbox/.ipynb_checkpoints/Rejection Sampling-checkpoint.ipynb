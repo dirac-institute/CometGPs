{
 "cells": [
  {
   "cell_type": "code",
   "execution_count": 1,
   "metadata": {},
   "outputs": [],
   "source": [
    "import numpy as np\n",
    "import pandas as pd\n",
    "import matplotlib.pyplot as plt\n",
    "%matplotlib inline\n",
    "import scipy.stats\n",
    "import GP_class\n",
    "import george\n",
    "import numpy.random as rnd\n",
    "import corner\n",
    "\n",
    "import sys\n",
    "import time as tm\n",
    "import multiprocessing as mp\n",
    "\n",
    "### NOTE TO SELF ###\n",
    "\n",
    "# When testing the speed of the prior sampling (numpy vs scipy), numpy took ~32 ms for 10**6 samples \n",
    "# while scipy took 386 microseconds (so negligable) to set up the distribution and 23 ms to create the 10**6 samples.\n",
    "# For 10**8 samples, numpy took 3.03 seconds while scipy took 2.35 seconds. So I'll be sticking with scipy for now.\n",
    "\n",
    "# numpy code\n",
    "#%timeit J_log_period = np.random.normal(size=100000000)*0.5 + np.log(4/24.) \n",
    "\n",
    "# scipy code\n",
    "#nsamples = 100000000\n",
    "#%timeit prior_log_period = scipy.stats.norm(np.log(4./24.), (12./24.))\n",
    "#%timeit J_log_period_2= prior_log_period.rvs(nsamples)"
   ]
  },
  {
   "cell_type": "code",
   "execution_count": 11,
   "metadata": {},
   "outputs": [],
   "source": [
    "def read_data(filename, whitespace=False, datadir=\"./\"):\n",
    "    \"\"\"\n",
    "    Read in light curve data from asteroid.\n",
    "    \"\"\"\n",
    "\n",
    "    data  = pd.read_csv(datadir+filename, header=None, delim_whitespace=whitespace)\n",
    "\n",
    "    tsample = data[0]\n",
    "    fsample = data[1]\n",
    "    flux_err = data[2]\n",
    "\n",
    "    return tsample, fsample, flux_err\n",
    "\n",
    "time, flux, flux_err = read_data(\"../data/simulation_results_new/3200/3200_lc_49627_to_49787.txt_sampled_talc_14days.txt\")"
   ]
  },
  {
   "cell_type": "code",
   "execution_count": 13,
   "metadata": {},
   "outputs": [],
   "source": [
    "# 1 : set up the prior distriubtion\n",
    "prior_mean = scipy.stats.norm(1, 0.5)\n",
    "prior_log_amp = scipy.stats.norm(np.log(0.15), np.log(2))\n",
    "prior_log_gamma = scipy.stats.norm(np.log(10), np.log(2))\n",
    "prior_log_period = scipy.stats.norm(np.log(4./24.), (12./24.))"
   ]
  },
  {
   "cell_type": "code",
   "execution_count": 22,
   "metadata": {},
   "outputs": [],
   "source": [
    "nsamples = 10**7\n",
    "\n",
    "J_mean = prior_mean.rvs(nsamples)\n",
    "J_log_amp = prior_log_amp.rvs(nsamples)\n",
    "J_log_gamma = prior_log_gamma.rvs(nsamples)\n",
    "J_log_period= prior_log_period.rvs(nsamples)"
   ]
  },
  {
   "cell_type": "code",
   "execution_count": 18,
   "metadata": {},
   "outputs": [],
   "source": [
    "kernel = np.exp(0) * george.kernels.ExpSine2Kernel(gamma = 1, log_period = 0)\n",
    "gp = george.GP(kernel, fit_mean=True, mean=1)\n",
    "gp.compute(time, flux_err)"
   ]
  },
  {
   "cell_type": "code",
   "execution_count": 25,
   "metadata": {},
   "outputs": [],
   "source": [
    "class DataManager:\n",
    "    def __init__(self, time, flux, flux_err):\n",
    "        self.flux = flux\n",
    "        kernel = np.exp(0) * george.kernels.ExpSine2Kernel(gamma = 1, log_period = 0)\n",
    "        self.gp = george.GP(kernel, fit_mean=True, mean=1)\n",
    "        self.gp.compute(time, flux_err)\n",
    "\n",
    "    def calculate_likelihood(self, params):\n",
    "        self.gp.set_parameter_vector(params)\n",
    "\n",
    "        try:\n",
    "            #gp.compute(time, flux_err)\n",
    "            lnlike = self.gp.log_likelihood(self.flux)\n",
    "        except np.linalg.LinAlgError:\n",
    "            lnlike = -1e25\n",
    "\n",
    "        return lnlike"
   ]
  },
  {
   "cell_type": "code",
   "execution_count": null,
   "metadata": {},
   "outputs": [],
   "source": [
    "#%%prun\n",
    "# 2: for each j, calculate the log likelihood\n",
    "\n",
    "L_results = np.ones(nsamples)\n",
    "\n",
    "start_time = tm.time()\n",
    "\n",
    "for i in np.arange(nsamples):\n",
    "\n",
    "    p = ((i+1)/nsamples)*100\n",
    "    if p.is_integer():\n",
    "        sys.stdout.write('\\r'+str(int(p))+\"%\")\n",
    "\n",
    "    params = [J_mean[i], J_log_amp[i], np.exp(J_log_gamma[i]), J_log_period[i]]\n",
    "\n",
    "    gp.set_parameter_vector(params)\n",
    "\n",
    "    try:\n",
    "        #gp.compute(time, flux_err)\n",
    "        lnlike = gp.log_likelihood(flux)\n",
    "    except np.linalg.LinAlgError:\n",
    "        lnlike = -1e25\n",
    "\n",
    "    L_results[i] = lnlike\n",
    "        \n",
    "end_time = tm.time()\n",
    "\n",
    "print(\"\\ntotal time taken for this loop: %.2f seconds\" %(end_time - start_time))\n"
   ]
  },
  {
   "cell_type": "code",
   "execution_count": 24,
   "metadata": {},
   "outputs": [
    {
     "data": {
      "text/plain": [
       "8"
      ]
     },
     "execution_count": 24,
     "metadata": {},
     "output_type": "execute_result"
    }
   ],
   "source": [
    "import multiprocessing as mp\n",
    "(mp.cpu_count())"
   ]
  },
  {
   "cell_type": "code",
   "execution_count": 26,
   "metadata": {
    "scrolled": true
   },
   "outputs": [
    {
     "name": "stdout",
     "output_type": "stream",
     "text": [
      "\n",
      "total time taken for this loop: 1399.32 seconds\n"
     ]
    }
   ],
   "source": [
    "# Parallelizing using Pool.map()\n",
    "manager = DataManager(time, flux, flux_err)\n",
    "\n",
    "start_time = tm.time()\n",
    "\n",
    "\n",
    "pool = mp.Pool(7)\n",
    "\n",
    "L_results = []\n",
    "L_results = pool.map(manager.calculate_likelihood, zip(J_mean, J_log_amp, np.exp(J_log_gamma), J_log_period))\n",
    "L_results = np.array(L_results)\n",
    "pool.close()\n",
    "\n",
    "end_time = tm.time()\n",
    "print(\"\\ntotal time taken for this loop: %.2f seconds\" %(end_time - start_time))"
   ]
  },
  {
   "cell_type": "code",
   "execution_count": 36,
   "metadata": {},
   "outputs": [
    {
     "data": {
      "text/plain": [
       "134"
      ]
     },
     "execution_count": 36,
     "metadata": {},
     "output_type": "execute_result"
    }
   ],
   "source": [
    "# 3 : Pick a random number r out of a uniform distribution between 0 and Lmax\n",
    "uu = rnd.uniform(size=len(L_results))\n",
    "\n",
    "good_samples_bool = 0.00000001 < np.exp(L_results-max(L_results))\n",
    "good_samples_idx, = np.where(good_samples_bool)\n",
    "\n",
    "len(good_samples_idx)"
   ]
  },
  {
   "cell_type": "code",
   "execution_count": null,
   "metadata": {},
   "outputs": [
    {
     "data": {
      "text/plain": [
       "Text(0.5,1,'Gamma')"
      ]
     },
     "execution_count": 43,
     "metadata": {},
     "output_type": "execute_result"
    },
    {
     "name": "stderr",
     "output_type": "stream",
     "text": [
      "ERROR:tornado.general:Uncaught exception in ZMQStream callback\n",
      "Traceback (most recent call last):\n",
      "  File \"/home/christina/anaconda3/lib/python3.7/site-packages/zmq/eventloop/zmqstream.py\", line 432, in _run_callback\n",
      "    callback(*args, **kwargs)\n",
      "  File \"/home/christina/anaconda3/lib/python3.7/site-packages/tornado/stack_context.py\", line 300, in null_wrapper\n",
      "    return fn(*args, **kwargs)\n",
      "  File \"/home/christina/anaconda3/lib/python3.7/site-packages/ipykernel/kernelbase.py\", line 283, in dispatcher\n",
      "    return self.dispatch_shell(stream, msg)\n",
      "  File \"/home/christina/anaconda3/lib/python3.7/site-packages/ipykernel/kernelbase.py\", line 233, in dispatch_shell\n",
      "    handler(stream, idents, msg)\n",
      "  File \"/home/christina/anaconda3/lib/python3.7/site-packages/ipykernel/kernelbase.py\", line 399, in execute_request\n",
      "    user_expressions, allow_stdin)\n",
      "  File \"/home/christina/anaconda3/lib/python3.7/site-packages/ipykernel/ipkernel.py\", line 208, in do_execute\n",
      "    res = shell.run_cell(code, store_history=store_history, silent=silent)\n",
      "  File \"/home/christina/anaconda3/lib/python3.7/site-packages/ipykernel/zmqshell.py\", line 537, in run_cell\n",
      "    return super(ZMQInteractiveShell, self).run_cell(*args, **kwargs)\n",
      "  File \"/home/christina/anaconda3/lib/python3.7/site-packages/IPython/core/interactiveshell.py\", line 2664, in run_cell\n",
      "    self.events.trigger('post_execute')\n",
      "  File \"/home/christina/anaconda3/lib/python3.7/site-packages/IPython/core/events.py\", line 88, in trigger\n",
      "    func(*args, **kwargs)\n",
      "  File \"/home/christina/anaconda3/lib/python3.7/site-packages/ipykernel/pylab/backend_inline.py\", line 117, in flush_figures\n",
      "    return show(True)\n",
      "  File \"/home/christina/anaconda3/lib/python3.7/site-packages/ipykernel/pylab/backend_inline.py\", line 39, in show\n",
      "    metadata=_fetch_figure_metadata(figure_manager.canvas.figure)\n",
      "  File \"/home/christina/anaconda3/lib/python3.7/site-packages/IPython/core/display.py\", line 298, in display\n",
      "    format_dict, md_dict = format(obj, include=include, exclude=exclude)\n",
      "  File \"/home/christina/anaconda3/lib/python3.7/site-packages/IPython/core/formatters.py\", line 180, in format\n",
      "    data = formatter(obj)\n",
      "  File \"<decorator-gen-9>\", line 2, in __call__\n",
      "  File \"/home/christina/anaconda3/lib/python3.7/site-packages/IPython/core/formatters.py\", line 224, in catch_format_error\n",
      "    r = method(self, *args, **kwargs)\n",
      "  File \"/home/christina/anaconda3/lib/python3.7/site-packages/IPython/core/formatters.py\", line 341, in __call__\n",
      "    return printer(obj)\n",
      "  File \"/home/christina/anaconda3/lib/python3.7/site-packages/IPython/core/pylabtools.py\", line 241, in <lambda>\n",
      "    png_formatter.for_type(Figure, lambda fig: print_figure(fig, 'png', **kwargs))\n",
      "  File \"/home/christina/anaconda3/lib/python3.7/site-packages/IPython/core/pylabtools.py\", line 125, in print_figure\n",
      "    fig.canvas.print_figure(bytes_io, **kw)\n",
      "  File \"/home/christina/anaconda3/lib/python3.7/site-packages/matplotlib/backend_bases.py\", line 2214, in print_figure\n",
      "    bbox_inches = self.figure.get_tightbbox(renderer)\n",
      "  File \"/home/christina/anaconda3/lib/python3.7/site-packages/matplotlib/figure.py\", line 2224, in get_tightbbox\n",
      "    bb.append(ax.get_tightbbox(renderer))\n",
      "  File \"/home/christina/anaconda3/lib/python3.7/site-packages/matplotlib/axes/_base.py\", line 4210, in get_tightbbox\n",
      "    bb.append(child._legend_box.get_window_extent(renderer))\n",
      "  File \"/home/christina/anaconda3/lib/python3.7/site-packages/matplotlib/offsetbox.py\", line 267, in get_window_extent\n",
      "    px, py = self.get_offset(w, h, xd, yd, renderer)\n",
      "  File \"/home/christina/anaconda3/lib/python3.7/site-packages/matplotlib/offsetbox.py\", line 219, in get_offset\n",
      "    if callable(self._offset)\n",
      "  File \"/home/christina/anaconda3/lib/python3.7/site-packages/matplotlib/legend.py\", line 744, in _findoffset\n",
      "    x, y = self._find_best_position(width, height, renderer)\n",
      "  File \"/home/christina/anaconda3/lib/python3.7/site-packages/matplotlib/legend.py\", line 1247, in _find_best_position\n",
      "    + sum(line.intersects_bbox(legendBox, filled=False)\n",
      "  File \"/home/christina/anaconda3/lib/python3.7/site-packages/matplotlib/transforms.py\", line 674, in count_contains\n",
      "    vertices = np.asarray(vertices)\n",
      "  File \"/home/christina/anaconda3/lib/python3.7/site-packages/numpy/core/numeric.py\", line 501, in asarray\n",
      "    return array(a, dtype, copy=False, order=order)\n",
      "KeyboardInterrupt\n"
     ]
    }
   ],
   "source": [
    "fig, ax = plt.subplots(2,2, figsize=(12,12))\n",
    "\n",
    "ax[0,0].scatter(np.exp(J_log_period)*24., L_results)\n",
    "\n",
    "L_max_period = np.exp(J_log_period[np.where(L_results==L_results.max())])*24.\n",
    "ax[0,0].vlines(L_max_period, L_results.min(), L_results.max(), label=\"Lmax: %f\" %L_max_period, linestyles='dashed', alpha=0.7)\n",
    "ax[0,0].legend()\n",
    "ax[0,0].set_title(\"Period (hours)\")\n",
    "\n",
    "\n",
    "ax[0,1].scatter(J_mean, L_results)\n",
    "\n",
    "L_max_mean = J_mean[np.where(L_results==L_results.max())]\n",
    "ax[0,1].vlines(L_max_mean, L_results.min(), L_results.max(), label=\"Lmax: %f\" %L_max_mean, linestyles='dashed', alpha=0.7)\n",
    "ax[0,1].legend()\n",
    "ax[0,1].set_title(\"Mean\")\n",
    "\n",
    "\n",
    "ax[1,0].scatter(J_log_amp, L_results)\n",
    "\n",
    "L_max_amp = np.exp(J_log_amp[np.where(L_results==L_results.max())])\n",
    "ax[1,0].vlines(L_max_amp, L_results.min(), L_results.max(), label=\"Lmax: %f\" %L_max_amp, linestyles='dashed', alpha=0.7)\n",
    "ax[1,0].legend()\n",
    "ax[1,0].set_title(\"Amplitude\")\n",
    "\n",
    "ax[1,1].scatter(np.exp(J_log_gamma), L_results)\n",
    "\n",
    "L_max_gamma = np.exp(J_log_gamma[np.where(L_results==L_results.max())])\n",
    "ax[1,1].vlines(L_max_gamma, L_results.min(), L_results.max(), label=\"Lmax: %f\" %L_max_gamma, linestyles='dashed', alpha=0.7)\n",
    "ax[1,1].legend()\n",
    "ax[1,1].set_title(\"Gamma\")"
   ]
  },
  {
   "cell_type": "code",
   "execution_count": null,
   "metadata": {},
   "outputs": [],
   "source": [
    "data = np.array([np.exp(J_log_period[good_samples_idx])*24, np.exp(J_log_gamma[good_samples_idx]), np.exp(J_log_amp[good_samples_idx]), J_mean[good_samples_idx]]).T\n",
    "figure = corner.corner(data, labels=[\"period\", 'gamma', 'amp', 'mean'])#, J_log_gamma[good_samples_idx], J_mean[good_samples_idx])\n",
    "plt.savefig(\"posterior_corner.pdf\", format=\"pdf\")"
   ]
  },
  {
   "cell_type": "code",
   "execution_count": 1,
   "metadata": {},
   "outputs": [
    {
     "ename": "NameError",
     "evalue": "name 'np' is not defined",
     "output_type": "error",
     "traceback": [
      "\u001b[0;31m---------------------------------------------------------------------------\u001b[0m",
      "\u001b[0;31mNameError\u001b[0m                                 Traceback (most recent call last)",
      "\u001b[0;32m<ipython-input-1-e4dce2544c64>\u001b[0m in \u001b[0;36m<module>\u001b[0;34m()\u001b[0m\n\u001b[0;32m----> 1\u001b[0;31m \u001b[0mL_max_period\u001b[0m \u001b[0;34m=\u001b[0m \u001b[0mnp\u001b[0m\u001b[0;34m.\u001b[0m\u001b[0mexp\u001b[0m\u001b[0;34m(\u001b[0m\u001b[0mJ_log_period\u001b[0m\u001b[0;34m[\u001b[0m\u001b[0mnp\u001b[0m\u001b[0;34m.\u001b[0m\u001b[0mwhere\u001b[0m\u001b[0;34m(\u001b[0m\u001b[0mL_results\u001b[0m\u001b[0;34m==\u001b[0m\u001b[0mmax\u001b[0m\u001b[0;34m(\u001b[0m\u001b[0mL_results\u001b[0m\u001b[0;34m)\u001b[0m\u001b[0;34m)\u001b[0m\u001b[0;34m]\u001b[0m\u001b[0;34m)\u001b[0m\u001b[0;34m*\u001b[0m\u001b[0;36m24.\u001b[0m\u001b[0;34m\u001b[0m\u001b[0m\n\u001b[0m\u001b[1;32m      2\u001b[0m \u001b[0mL_max_period\u001b[0m\u001b[0;34m\u001b[0m\u001b[0m\n",
      "\u001b[0;31mNameError\u001b[0m: name 'np' is not defined"
     ]
    }
   ],
   "source": [
    "L_max_period = np.exp(J_log_period[np.where(L_results==max(L_results))])*24.\n",
    "L_max_period"
   ]
  },
  {
   "cell_type": "code",
   "execution_count": null,
   "metadata": {},
   "outputs": [],
   "source": [
    "plt.scatter(np.exp(J_log_period)*24., np.exp(L_results-max(L_results)))\n",
    "\n",
    "# plot l_max\n",
    "L_max_period = np.exp(J_log_period[np.where(L_results==max(L_results))])*24.\n",
    "plt.vlines(L_max_period, 0, 1, label=\"Lmax: %f\" %L_max_period, linestyles='dashed', alpha=0.7)\n",
    "plt.legend()"
   ]
  },
  {
   "cell_type": "code",
   "execution_count": null,
   "metadata": {},
   "outputs": [],
   "source": [
    "plt.scatter(J_mean, np.exp(L_results-L_results.max()))\n",
    "\n",
    "# plot l_max\n",
    "L_max_mean = J_mean[np.where(L_results==L_results.max())]\n",
    "plt.vlines(L_max_mean, 0, 1, label=\"Lmax: %f\" %L_max_period, linestyles='dashed', alpha=0.7)\n",
    "plt.legend()"
   ]
  },
  {
   "cell_type": "code",
   "execution_count": null,
   "metadata": {},
   "outputs": [],
   "source": [
    "len(good_samples_idx)"
   ]
  },
  {
   "cell_type": "code",
   "execution_count": null,
   "metadata": {},
   "outputs": [],
   "source": [
    "import plotting"
   ]
  },
  {
   "cell_type": "code",
   "execution_count": null,
   "metadata": {},
   "outputs": [],
   "source": [
    "plotting.plot_folded_lightcurve(time, flux, period = np.exp(J_log_period[np.where(L_results==L_results.max())]))"
   ]
  },
  {
   "cell_type": "code",
   "execution_count": null,
   "metadata": {},
   "outputs": [],
   "source": [
    "import multiprocessing as mp\n",
    "print(\"Number of processors: \", mp.cpu_count())"
   ]
  },
  {
   "cell_type": "code",
   "execution_count": null,
   "metadata": {},
   "outputs": [],
   "source": [
    "import numpy as np\n",
    "from time import time\n",
    "\n",
    "# Prepare data\n",
    "np.random.RandomState(100)\n",
    "arr = np.random.randint(0, 10, size=[200000, 5])\n",
    "data = arr.tolist()\n",
    "data[:5]"
   ]
  },
  {
   "cell_type": "code",
   "execution_count": null,
   "metadata": {},
   "outputs": [],
   "source": [
    "# Solution Without Paralleization\n",
    "\n",
    "def howmany_within_range(row, minimum, maximum):\n",
    "    \"\"\"Returns how many numbers lie within `maximum` and `minimum` in a given `row`\"\"\"\n",
    "    count = 0\n",
    "    for n in row:\n",
    "        if minimum <= n <= maximum:\n",
    "            count = count + 1\n",
    "    return count\n",
    "\n",
    "results = []\n",
    "for row in data:\n",
    "    results.append(howmany_within_range(row, minimum=4, maximum=8))\n",
    "\n",
    "print(results[:10])\n",
    "#> [3, 1, 4, 4, 4, 2, 1, 1, 3, 3]"
   ]
  },
  {
   "cell_type": "code",
   "execution_count": null,
   "metadata": {},
   "outputs": [],
   "source": [
    "# Parallelizing using Pool.apply()\n",
    "\n",
    "import multiprocessing as mp\n",
    "\n",
    "# Step 1: Init multiprocessing.Pool()\n",
    "pool = mp.Pool(mp.cpu_count())\n",
    "\n",
    "# Step 2: `pool.apply` the `howmany_within_range()`\n",
    "results = [pool.apply(howmany_within_range, args=(row, 4, 8)) for row in data]\n",
    "\n",
    "# Step 3: Don't forget to close\n",
    "pool.close()    \n",
    "\n",
    "print(results[:10])\n",
    "#> [3, 1, 4, 4, 4, 2, 1, 1, 3, 3]"
   ]
  },
  {
   "cell_type": "code",
   "execution_count": null,
   "metadata": {},
   "outputs": [],
   "source": [
    "# Parallelizing using Pool.map()\n",
    "import multiprocessing as mp\n",
    "\n",
    "# Redefine, with only 1 mandatory argument.\n",
    "def howmany_within_range_rowonly(row, minimum=4, maximum=8):\n",
    "    count = 0\n",
    "    for n in row:\n",
    "        if minimum <= n <= maximum:\n",
    "            count = count + 1\n",
    "    return count\n",
    "\n",
    "pool = mp.Pool(mp.cpu_count())\n",
    "\n",
    "results = pool.map(howmany_within_range_rowonly, [row for row in data])\n",
    "\n",
    "pool.close()\n",
    "\n",
    "print(results[:10])\n",
    "#> [3, 1, 4, 4, 4, 2, 1, 1, 3, 3]"
   ]
  },
  {
   "cell_type": "code",
   "execution_count": null,
   "metadata": {},
   "outputs": [],
   "source": []
  }
 ],
 "metadata": {
  "kernelspec": {
   "display_name": "Python 3",
   "language": "python",
   "name": "python3"
  },
  "language_info": {
   "codemirror_mode": {
    "name": "ipython",
    "version": 3
   },
   "file_extension": ".py",
   "mimetype": "text/x-python",
   "name": "python",
   "nbconvert_exporter": "python",
   "pygments_lexer": "ipython3",
   "version": "3.7.0"
  }
 },
 "nbformat": 4,
 "nbformat_minor": 2
}
