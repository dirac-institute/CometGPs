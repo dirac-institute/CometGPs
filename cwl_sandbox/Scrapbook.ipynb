{
 "cells": [
  {
   "cell_type": "code",
   "execution_count": 1,
   "metadata": {},
   "outputs": [],
   "source": [
    "import numpy as np\n",
    "import pandas as pd\n",
    "import matplotlib.pyplot as plt\n",
    "% matplotlib notebook"
   ]
  },
  {
   "cell_type": "code",
   "execution_count": 2,
   "metadata": {},
   "outputs": [],
   "source": [
    "datadir = \"../data/\"\n",
    "filename = \"3200_lc_49627_to_49787.txt\""
   ]
  },
  {
   "cell_type": "code",
   "execution_count": 3,
   "metadata": {},
   "outputs": [],
   "source": [
    "data = pd.read_csv(datadir+filename, delimiter=' ',\n",
    "                     header=None, names=['time','flux'], dtype={'time':float, 'flux':float})\n",
    "\n",
    "\n",
    "time = np.array(data.time)\n",
    "flux = np.array(data.flux)\n",
    "flux_err = np.ones_like(flux) * np.std(flux)/10.0\n",
    "data_pts = len(time)"
   ]
  },
  {
   "cell_type": "code",
   "execution_count": 4,
   "metadata": {},
   "outputs": [
    {
     "data": {
      "text/plain": [
       "[<matplotlib.lines.Line2D at 0x7f09619fec88>]"
      ]
     },
     "execution_count": 4,
     "metadata": {},
     "output_type": "execute_result"
    },
    {
     "data": {
      "image/png": "[encoded data removed]",
      "text/plain": [
       "<matplotlib.figure.Figure at 0x7f09840a3240>"
      ]
     },
     "metadata": {},
     "output_type": "display_data"
    }
   ],
   "source": [
    "plt.plot(time,flux)"
   ]
  },
  {
   "cell_type": "code",
   "execution_count": 5,
   "metadata": {},
   "outputs": [],
   "source": [
    "npoints = 100\n",
    "idx = np.random.choice(np.arange(0, time.shape[0], 1, dtype=int),size=npoints, replace=False)\n",
    "\n",
    "tsmall = time[np.sort(idx)]\n",
    "fsmall = flux[np.sort(idx)]\n",
    "if flux_err is not None:\n",
    "    ferrsmall = flux_err[np.sort(idx)]\n",
    "else:\n",
    "    ferrsmall = np.zeros_like(fsmall) + sigma"
   ]
  },
  {
   "cell_type": "code",
   "execution_count": 6,
   "metadata": {},
   "outputs": [
    {
     "data": {
      "text/plain": [
       "[<matplotlib.lines.Line2D at 0x7f795121c0b8>]"
      ]
     },
     "execution_count": 6,
     "metadata": {},
     "output_type": "execute_result"
    },
    {
     "data": {
      "image/png": "[encoded data removed]",
      "text/plain": [
       "<matplotlib.figure.Figure at 0x7f79741b2048>"
      ]
     },
     "metadata": {},
     "output_type": "display_data"
    }
   ],
   "source": [
    "plt.plot(tsmall, fsmall, '.')"
   ]
  },
  {
   "cell_type": "code",
   "execution_count": 5,
   "metadata": {},
   "outputs": [
    {
     "name": "stdout",
     "output_type": "stream",
     "text": [
      "[ 2449627.49049528  2449627.49049528  2449627.49084252 ...,\n",
      "  2449787.48942442  2449787.48977158  2449787.49011874]\n"
     ]
    }
   ],
   "source": [
    "time = np.array(data.time)\n",
    "print(time)\n",
    "flux = np.array(data.flux)\n",
    "flux_err = np.ones_like(flux) * np.std(flux)/10.0\n",
    "\n",
    "cap = 60000\n",
    "time = time[:cap:]\n",
    "flux = flux[:cap:]"
   ]
  },
  {
   "cell_type": "code",
   "execution_count": 4,
   "metadata": {},
   "outputs": [],
   "source": []
  },
  {
   "cell_type": "code",
   "execution_count": 5,
   "metadata": {},
   "outputs": [
    {
     "data": {
      "text/plain": [
       "array([ 2.        ,  2.1010101 ,  2.2020202 ,  2.3030303 ,  2.4040404 ,\n",
       "        2.50505051,  2.60606061,  2.70707071,  2.80808081,  2.90909091,\n",
       "        3.01010101,  3.11111111,  3.21212121,  3.31313131,  3.41414141,\n",
       "        3.51515152,  3.61616162,  3.71717172,  3.81818182,  3.91919192,\n",
       "        4.02020202,  4.12121212,  4.22222222,  4.32323232,  4.42424242,\n",
       "        4.52525253,  4.62626263,  4.72727273,  4.82828283,  4.92929293,\n",
       "        5.03030303,  5.13131313,  5.23232323,  5.33333333,  5.43434343,\n",
       "        5.53535354,  5.63636364,  5.73737374,  5.83838384,  5.93939394,\n",
       "        6.04040404,  6.14141414,  6.24242424,  6.34343434,  6.44444444,\n",
       "        6.54545455,  6.64646465,  6.74747475,  6.84848485,  6.94949495,\n",
       "        7.05050505,  7.15151515,  7.25252525,  7.35353535,  7.45454545,\n",
       "        7.55555556,  7.65656566,  7.75757576,  7.85858586,  7.95959596,\n",
       "        8.06060606,  8.16161616,  8.26262626,  8.36363636,  8.46464646,\n",
       "        8.56565657,  8.66666667,  8.76767677,  8.86868687,  8.96969697,\n",
       "        9.07070707,  9.17171717,  9.27272727,  9.37373737,  9.47474747,\n",
       "        9.57575758,  9.67676768,  9.77777778,  9.87878788,  9.97979798,\n",
       "       10.08080808, 10.18181818, 10.28282828, 10.38383838, 10.48484848,\n",
       "       10.58585859, 10.68686869, 10.78787879, 10.88888889, 10.98989899,\n",
       "       11.09090909, 11.19191919, 11.29292929, 11.39393939, 11.49494949,\n",
       "       11.5959596 , 11.6969697 , 11.7979798 , 11.8989899 , 12.        ])"
      ]
     },
     "execution_count": 5,
     "metadata": {},
     "output_type": "execute_result"
    }
   ],
   "source": [
    "p0"
   ]
  },
  {
   "cell_type": "code",
   "execution_count": 6,
   "metadata": {
    "scrolled": true
   },
   "outputs": [
    {
     "name": "stdout",
     "output_type": "stream",
     "text": [
      "tseg = 20.8337155702\n",
      "2449627.4905\n"
     ]
    }
   ],
   "source": [
    "###dense###\n",
    "time_unit=\"days\"\n",
    "night_length=8.0\n",
    "\n",
    "\n",
    "if time_unit == \"days\":\n",
    "            night_length /= 24.0\n",
    "            tseg = time[-1] - time[0] # total length of the time series\n",
    "else:\n",
    "    tseg = (time[-1] - time[0]) / 24.0\n",
    "    \n",
    "print('tseg = ' + str(tseg))\n",
    "\n",
    "tstart = time[0]\n",
    "print(tstart)\n",
    "tend = tstart + night_length\n",
    "\n",
    "tsmall = []\n",
    "fsmall = []\n",
    "\n",
    "ferrsmall = []\n",
    "\n",
    "# one minute in fractions of days\n",
    "dt = 1./(60*24.)\n",
    "\n",
    "\n",
    "while tend <= time[-1]:\n",
    "\n",
    "    #within the 8-hour night\n",
    "    while tstart <= tend:\n",
    "        tind = time.searchsorted(tstart)\n",
    "        tsmall.append(time[tind])\n",
    "        fsmall.append(flux[tind])\n",
    "        \n",
    "        if flux_err is not None:\n",
    "            ferrsmall.append(flux_err[tind])\n",
    "        else:\n",
    "            ferrsmall.append(sigma)\n",
    "            \n",
    "        tstart += 5.*dt\n",
    "        \n",
    "    if time_unit == \"days\":\n",
    "        tstart += (1.0-night_length)\n",
    "        tend += 1.0\n",
    "    elif time_unit == \"hours\":\n",
    "        tstart += (24.0 - night_length)\n",
    "        tend += 24.0"
   ]
  },
  {
   "cell_type": "code",
   "execution_count": 8,
   "metadata": {},
   "outputs": [
    {
     "name": "stdout",
     "output_type": "stream",
     "text": [
      "20.8337155702\n"
     ]
    }
   ],
   "source": [
    "###semi-dense###\n",
    "#semi-dense : 15 obervations per night every 10-60 minutes (30 minutes on average) \n",
    "#irregular for 8 hours, 1 night, and then 3 nights later per month (potentially for 6 months) \n",
    "\n",
    "time_unit=\"days\"\n",
    "night_length=8.0\n",
    "\n",
    "if time_unit == \"days\":\n",
    "            night_length /= 24.0\n",
    "            tseg = time[-1] - time[0] # total length of the time series\n",
    "else:\n",
    "    tseg = (time[-1] - time[0]) / 24.0\n",
    "    \n",
    "print(tseg)\n",
    "\n",
    "tstart = time[0]\n",
    "tend = tstart + night_length\n",
    "\n",
    "tsmall = []\n",
    "fsmall = []\n",
    "\n",
    "ferrsmall = []\n",
    "\n",
    "# one minute in fractions of days\n",
    "dt = 1./(60*24.)\n",
    "\n",
    "skip_month = False\n",
    "while tend <= time[-1]:\n",
    "\n",
    "    #within 15 obeservations\n",
    "    nobs = 0\n",
    "    while nobs < 15:\n",
    "        #generate 15 observations per night\n",
    "        total_time = 999\n",
    "        while total_time > 8.0:\n",
    "            start_id = np.random.normal(30, 10, size=15)\n",
    "            total_time = start_id.sum()/60.\n",
    "            \n",
    "        for j in range(15):\n",
    "            tind = time.searchsorted(tstart)\n",
    "            tsmall.append(time[tind])\n",
    "            fsmall.append(flux[tind])\n",
    "\n",
    "            if flux_err is not None:\n",
    "                ferrsmall.append(flux_err[tind])\n",
    "            else:\n",
    "                ferrsmall.append(sigma)\n",
    "\n",
    "            tstart += start_id[j]*dt\n",
    "            \n",
    "            nobs+=1\n",
    "            \n",
    "        night_length = start_id.sum()/60.\n",
    "        \n",
    "    if skip_month==False:\n",
    "        if time_unit == \"days\":\n",
    "            tstart += (3.0-night_length/24.)\n",
    "            tend += 3.0\n",
    "\n",
    "        elif time_unit == \"hours\":\n",
    "            tstart += (72.0 - night_length)\n",
    "            tend += 72.0\n",
    "            \n",
    "    else:\n",
    "        if time_unit == \"days\":\n",
    "            tstart += (26.0-night_length/24.)\n",
    "            tend += 26.0\n",
    "\n",
    "        elif time_unit == \"hours\":\n",
    "            tstart += (24.0*26. - night_length)\n",
    "            tend += 24.0*26.\n",
    "        \n",
    "    skip_month = not skip_month"
   ]
  },
  {
   "cell_type": "code",
   "execution_count": 11,
   "metadata": {},
   "outputs": [
    {
     "data": {
      "image/png": "[encoded data removed]",
      "text/plain": [
       "<matplotlib.figure.Figure at 0x7f0961a4bda0>"
      ]
     },
     "metadata": {},
     "output_type": "display_data"
    }
   ],
   "source": [
    "plt.plot(tsmall, fsmall, '.')\n",
    "plt.show()"
   ]
  },
  {
   "cell_type": "code",
   "execution_count": 139,
   "metadata": {},
   "outputs": [
    {
     "name": "stdout",
     "output_type": "stream",
     "text": [
      "15\n",
      "[3 4 5 3]\n",
      "18\n",
      "[5 4 4 5]\n",
      "8\n",
      "[1 4 1 2]\n"
     ]
    }
   ],
   "source": [
    "days_total = 999\n",
    "while days_total > 14:\n",
    "    day_jump= np.random.randint(1,6, size=4)\n",
    "    days_total = day_jump.sum()\n",
    "    print(day_jump.sum())\n",
    "    print(day_jump)"
   ]
  },
  {
   "cell_type": "code",
   "execution_count": 10,
   "metadata": {},
   "outputs": [
    {
     "name": "stdout",
     "output_type": "stream",
     "text": [
      "20.8337155702\n",
      "<class 'numpy.ndarray'>\n",
      "11\n",
      "[1 2 3 5 0]\n"
     ]
    }
   ],
   "source": [
    "###TALC : 17 observations per night every 15 minutes on average (randomize) for 5 nights \n",
    "###over a 2 week period (TALC Masiero et al. 2009)\n",
    "\n",
    "time_unit=\"days\"\n",
    "night_length=8.0\n",
    "\n",
    "if time_unit == \"days\":\n",
    "            night_length /= 24.0\n",
    "            tseg = time[-1] - time[0] # total length of the time series\n",
    "else:\n",
    "    tseg = (time[-1] - time[0]) / 24.0\n",
    "    \n",
    "print(tseg)\n",
    "\n",
    "tstart = time[0]\n",
    "tend = tstart + night_length\n",
    "\n",
    "tsmall = []\n",
    "fsmall = []\n",
    "\n",
    "ferrsmall = []\n",
    "\n",
    "# one minute in fractions of days\n",
    "dt = 1./(60*24.)\n",
    "\n",
    "days_total = 999\n",
    "while days_total > 14:\n",
    "    day_jump= np.random.randint(1,6, size=4)\n",
    "    print(type(day_jump))\n",
    "    days_total = day_jump.sum()\n",
    "    day_jump = np.append(day_jump, [0])\n",
    "    print(day_jump.sum())\n",
    "    print(day_jump)\n",
    "\n",
    "day_obs = 0 \n",
    "while day_obs < 5:\n",
    "    #within 17 obeservations\n",
    "    nobs = 0\n",
    "    while nobs < 17:\n",
    "        #generate 17 observations per night\n",
    "        start_id = np.random.normal(15, 3, size=17)\n",
    "            \n",
    "        for j in range(17):\n",
    "            tind = time.searchsorted(tstart)\n",
    "            tsmall.append(time[tind])\n",
    "            fsmall.append(flux[tind])\n",
    "\n",
    "            if flux_err is not None:\n",
    "                ferrsmall.append(flux_err[tind])\n",
    "            else:\n",
    "                ferrsmall.append(sigma)\n",
    "\n",
    "            tstart += start_id[j]*dt\n",
    "            \n",
    "            nobs+=1\n",
    "            \n",
    "        night_length = start_id.sum()/60.\n",
    "        \n",
    "    if time_unit == \"days\":\n",
    "        tstart += (1.0*day_jump[day_obs]-night_length/24.)\n",
    "        tend += 1.0\n",
    "        \n",
    "    elif time_unit == \"hours\":\n",
    "        tstart += (24.0 - night_length)\n",
    "        tend += 24.0\n",
    "        \n",
    "    day_obs+=1"
   ]
  },
  {
   "cell_type": "code",
   "execution_count": 160,
   "metadata": {},
   "outputs": [
    {
     "data": {
      "text/plain": [
       "array([1, 1, 3, 3, 1, 0])"
      ]
     },
     "execution_count": 160,
     "metadata": {},
     "output_type": "execute_result"
    }
   ],
   "source": [
    "days_total = day_jump.sum()\n",
    "day_jump = np.append(day_jump, [0])\n",
    "day_jump"
   ]
  },
  {
   "cell_type": "code",
   "execution_count": 12,
   "metadata": {},
   "outputs": [
    {
     "name": "stdout",
     "output_type": "stream",
     "text": [
      "tseg = 20.8337155702\n",
      "2449627.4905\n"
     ]
    }
   ],
   "source": [
    "###ZTF/LSST : 1-2 observations every couple of nights (find in overview paper)\n",
    "###2 observations per night separated by 60 minutes (+/- 10 min) over 3 nights not sequential \n",
    "###(e.g. 1, 5, 8 (nights ~ 4 +/- 1)) keep extending nights until it works (maybe 15 nights/~60 days)\n",
    "\n",
    "\n",
    "time_unit=\"days\"\n",
    "night_length=8.0\n",
    "\n",
    "#might not need the tseg if-else code\n",
    "\n",
    "if time_unit == \"days\":\n",
    "            night_length /= 24.0\n",
    "            tseg = time[-1] - time[0] # total length of the time series\n",
    "else:\n",
    "    tseg = (time[-1] - time[0]) / 24.0\n",
    "    \n",
    "print('tseg = ' + str(tseg))\n",
    "\n",
    "tstart = time[0]\n",
    "print(tstart)\n",
    "tend = tstart + night_length\n",
    "\n",
    "tsmall = []\n",
    "fsmall = []\n",
    "\n",
    "ferrsmall = []\n",
    "\n",
    "# one minute in fractions of days\n",
    "dt = 1./(60*24.)\n",
    "\n",
    "\n",
    "while tend <= time[-1]:\n",
    "    nobs=0\n",
    "    night_length=0\n",
    "\n",
    "    #within 2 observations\n",
    "    while nobs <= 1:\n",
    "        tind = time.searchsorted(tstart)\n",
    "        tsmall.append(time[tind])\n",
    "        fsmall.append(flux[tind])\n",
    "        \n",
    "        if flux_err is not None:\n",
    "            ferrsmall.append(flux_err[tind])\n",
    "        else:\n",
    "            ferrsmall.append(sigma)\n",
    "            \n",
    "        time_jump = np.random.normal(60,5)\n",
    "        night_length += time_jump\n",
    "            \n",
    "        tstart += time_jump*dt\n",
    "        \n",
    "        nobs+=1\n",
    "        \n",
    "    day_jump = np.random.randint(3,6)\n",
    "        \n",
    "    if time_unit == \"days\":\n",
    "        tstart += (1.0*day_jump-night_length/(24.*60.))\n",
    "        tend += 1.0*day_jump\n",
    "    elif time_unit == \"hours\":\n",
    "        tstart += (24.0*day_jump - night_length/(60.))\n",
    "        tend += 24.0*day_jump"
   ]
  },
  {
   "cell_type": "code",
   "execution_count": 14,
   "metadata": {},
   "outputs": [
    {
     "data": {
      "image/png": "[encoded data removed]",
      "text/plain": [
       "<matplotlib.figure.Figure at 0x7f0961900da0>"
      ]
     },
     "metadata": {},
     "output_type": "display_data"
    }
   ],
   "source": [
    "plt.plot(tsmall, fsmall, '.')\n",
    "plt.show()"
   ]
  },
  {
   "cell_type": "code",
   "execution_count": 45,
   "metadata": {},
   "outputs": [],
   "source": [
    "def subsample(time, flux, flux_err=None, npoints=100, kind=\"random\",\n",
    "              time_unit=\"days\", night_length=8.0, seed=42,\n",
    "              sigma=0.0, mean_flux=0.0, dnights=[3,6]):\n",
    "    if seed is not None:\n",
    "        np.random.seed(seed)\n",
    "\n",
    "    if kind == \"random\":\n",
    "        # generate a random list of indices for sub-sampling\n",
    "        idx = np.random.choice(np.arange(0, time.shape[0], 1, dtype=int),size=npoints, replace=False)\n",
    "\n",
    "        tsmall = time[np.sort(idx)]\n",
    "        fsmall = flux[np.sort(idx)]\n",
    "        if flux_err is not None:\n",
    "            ferrsmall = flux_err[np.sort(idx)]\n",
    "        else:\n",
    "            ferrsmall = np.zeros_like(fsmall) + sigma\n",
    "\n",
    "    elif kind == \"telescope\":\n",
    "        # if time unit is in days, convert length of night and day\n",
    "        # from hours into days\n",
    "        if time_unit == \"days\":\n",
    "            night_length /= 24.0\n",
    "            tseg = time[-1] - time[0] # total length of the time series\n",
    "        else:\n",
    "            tseg = (time[-1] - time[0]) / 24.0\n",
    "\n",
    "        nightly_points = int(npoints/tseg)\n",
    "\n",
    "        tstart = time[0]\n",
    "        tend = tstart + night_length\n",
    "\n",
    "        tsmall = []\n",
    "        fsmall = []\n",
    "\n",
    "        ferrsmall = []\n",
    "        while tend <= time[-1]:\n",
    "            min_ind = time.searchsorted(tstart)\n",
    "            max_ind = time.searchsorted(tend)\n",
    "\n",
    "            tshort = time[min_ind:max_ind]\n",
    "            fshort = flux[min_ind:max_ind]\n",
    "\n",
    "\n",
    "            idx = np.random.choice(np.arange(0, tshort.shape[0], 1, dtype=int),\n",
    "                           size=nightly_points, replace=False)\n",
    "\n",
    "            tsample = tshort[np.sort(idx)]\n",
    "            fsample = fshort[np.sort(idx)]\n",
    "\n",
    "            tsmall.append(tsample)\n",
    "            fsmall.append(fsample)\n",
    "\n",
    "            if flux_err is not None:\n",
    "                ferrshort = flux_err[min_ind:max_ind]\n",
    "                ferrsample = ferrshort[np.sort(idx)]\n",
    "                ferrsmall.append(ferrsample)\n",
    "            else:\n",
    "                ferrsmall.append(np.zeros_like(fsample) + sigma)\n",
    "\n",
    "            if time_unit == \"days\":\n",
    "                tstart += 1.0\n",
    "                tend += 1.0\n",
    "            elif time_unit == \"hours\":\n",
    "                tstart += 24.0\n",
    "                tend += 24.0\n",
    "\n",
    "    elif kind == \"sparse\":\n",
    "        if time_unit == \"days\":\n",
    "            night_length /= 24.0\n",
    "            tseg = time[-1] - time[0] # total length of the time series\n",
    "        else:\n",
    "            tseg = (time[-1] - time[0]) / 24.0\n",
    "\n",
    "        tstart = time[0]\n",
    "        tend = tstart + night_length\n",
    "\n",
    "        tsmall = []\n",
    "        fsmall = []\n",
    "\n",
    "        ferrsmall = []\n",
    "\n",
    "        start_id = np.random.randint(0, 8, size=1)\n",
    "\n",
    "        # one minute in fractions of days\n",
    "        dt = 1./(60*24.)\n",
    "\n",
    "        # start within the 24-minute interval of observing different asteroids\n",
    "        tstart += start_id*(3*dt)\n",
    "\n",
    "        while tend <= time[-1]:\n",
    "\n",
    "            while tstart <= tend:\n",
    "                for j in range(3):\n",
    "                    tind = time.searchsorted(tstart)\n",
    "                    tsmall.append(time[tind])\n",
    "                    fsmall.append(flux[tind])\n",
    "\n",
    "                    if flux_err is not None:\n",
    "                        ferrsmall.append(flux_err[tind])\n",
    "                    else:\n",
    "                        ferrsmall.append(sigma)\n",
    "\n",
    "                    tstart += dt\n",
    "\n",
    "                tstart += 21.*dt\n",
    "\n",
    "            if time_unit == \"days\":\n",
    "                tstart += (1.0-night_length)\n",
    "                tend += 1.0\n",
    "            elif time_unit == \"hours\":\n",
    "                tstart += (24.0 - night_length)\n",
    "                tend += 24.0\n",
    "                \n",
    "    elif kind == \"ztf\":\n",
    "\n",
    "        tstart = time[0]\n",
    "        total_nights = time[-1] - time[0]\n",
    "\n",
    "        tsmall = []\n",
    "        fsmall = []\n",
    "\n",
    "        nnights = int(npoints/2.)\n",
    "        if nnights > total_nights:\n",
    "            raise ValueError(\"Number of selected nights is longer than total light curve.\")\n",
    "\n",
    "        dnights = np.random.randint(dnights[0], dnights[1], size=npoints)\n",
    "        dnights[1::2] = 0\n",
    "        nights = np.zeros(npoints, float) + dnights\n",
    "        nights = nights.cumsum()\n",
    "\n",
    "        if np.max(nights) > time[-1]:\n",
    "            print(\"Warning! The requested observations are spread over more nights\" +\n",
    "                  \" than we currently have data for! Actual number of nights will be smaller!\")\n",
    "\n",
    "        # After 1 month, given field rises 2 hours earlier\n",
    "        # Let's say we start @ +/- 1 hour of midnight\n",
    "        start_times = (np.random.random(npoints) * 2.0 - 1.0) * 60.0\n",
    "        start_times[::2] = start_times[1::2]\n",
    "        dtimes = np.random.randint(30, 51, size=npoints)\n",
    "        dtimes[::2] = 0\n",
    "        times = nights + (start_times  + dtimes) / 60.0 /  24.0 + (nights * -2./24./30.)\n",
    "\n",
    "        ferrsmall = []\n",
    "        times += tstart\n",
    "\n",
    "        for t in times:\n",
    "            t_ind = time.searchsorted(t)\n",
    "            tsmall.append(time[t_ind])\n",
    "            fsmall.append(flux[t_ind])\n",
    "\n",
    "            if flux_err is not None:\n",
    "                ferrsmall.append(flux_err[t_ind])\n",
    "            else:\n",
    "                ferrsmall.append(sigma)\n",
    "\n",
    "    fsmall = np.random.normal(np.hstack(fsmall), scale=np.hstack(ferrsmall)) + mean_flux\n",
    "\n",
    "    #print('tsmall: ' + str(type(tsmall)))\n",
    "\n",
    "    #return tsmall, fsmall, ferrsmall\n",
    "\n",
    "    return np.hstack(tsmall), np.hstack(fsmall), np.hstack(ferrsmall)\n"
   ]
  },
  {
   "cell_type": "code",
   "execution_count": 21,
   "metadata": {},
   "outputs": [
    {
     "name": "stdout",
     "output_type": "stream",
     "text": [
      "0\n",
      "1\n",
      "2\n"
     ]
    }
   ],
   "source": [
    "for j in range(3):\n",
    "    print(j)"
   ]
  },
  {
   "cell_type": "code",
   "execution_count": null,
   "metadata": {},
   "outputs": [],
   "source": []
  }
 ],
 "metadata": {
  "kernelspec": {
   "display_name": "Python 3",
   "language": "python",
   "name": "python3"
  },
  "language_info": {
   "codemirror_mode": {
    "name": "ipython",
    "version": 3
   },
   "file_extension": ".py",
   "mimetype": "text/x-python",
   "name": "python",
   "nbconvert_exporter": "python",
   "pygments_lexer": "ipython3",
   "version": "3.7.0"
  }
 },
 "nbformat": 4,
 "nbformat_minor": 2
}
