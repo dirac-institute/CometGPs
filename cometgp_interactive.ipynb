{
 "cells": [
  {
   "cell_type": "code",
   "execution_count": 1,
   "metadata": {
    "collapsed": true
   },
   "outputs": [],
   "source": [
    "import cometgp_sandbox as cgp\n",
    "%matplotlib notebook\n",
    "from ipywidgets import interact"
   ]
  },
  {
   "cell_type": "code",
   "execution_count": 2,
   "metadata": {
    "collapsed": true
   },
   "outputs": [],
   "source": [
    "def simulated_data_comparison(gamma, period, amp):\n",
    "    \n",
    "    px, py, x_pos, gp1 = cgp.create_data(gamma, period, amp)\n",
    "    \n",
    "    def _do_work(n = 10, m = 0):\n",
    "        x, y, yerr = cgp.sample_data(px, py, x_pos , n, m)\n",
    "    \n",
    "        gp2 = cgp.fit_data(x,y,yerr,gamma,period,gp1, print_results = True)\n",
    "        \n",
    "        cgp.plotting(x,y,yerr,py,x_pos,gp2)\n",
    "\n",
    "    return _do_work\n",
    "\n",
    "#n will only work if m is set equal to 0"
   ]
  },
  {
   "cell_type": "code",
   "execution_count": 3,
   "metadata": {},
   "outputs": [
    {
     "data": {
      "application/vnd.jupyter.widget-view+json": {
       "model_id": "32eefd9f0c16442b80340e4981b408fb",
       "version_major": 2,
       "version_minor": 0
      },
      "text/plain": [
       "A Jupyter Widget"
      ]
     },
     "metadata": {},
     "output_type": "display_data"
    },
    {
     "data": {
      "text/plain": [
       "<function __main__.simulated_data_comparison.<locals>._do_work>"
      ]
     },
     "execution_count": 3,
     "metadata": {},
     "output_type": "execute_result"
    }
   ],
   "source": [
    "vary_nm = simulated_data_comparison(10,1,1)\n",
    "interact(vary_nm, n=(0, 100,5), m = (0, 10), continuous_update=False)"
   ]
  },
  {
   "cell_type": "markdown",
   "metadata": {},
   "source": [
    "### To Do\n",
    "$\\bullet$ read more on the george documentation - period confusion\n",
    "\n",
    "$\\bullet$ add all code to github\n",
    "\n",
    "$\\bullet$ read hogg paper\n",
    "\n",
    "$\\bullet$ read whatever Daniela sends\n"
   ]
  },
  {
   "cell_type": "markdown",
   "metadata": {},
   "source": [
    "Principle Simulations\n",
    "    find a better way of simulating models\n",
    "        synthetic light curves - Bryce will help :)\n",
    "        then real data\n",
    "    cadences (LSST and ZTF)\n",
    "    bootstraping (fake to real)\n",
    "    compare to other methods that exist\n",
    "    implement priors\n",
    "    MCMC - markov chain monte carlo simulations\n",
    "    \n",
    "Next Quarter: get 2 simulations as primary examples (densely populated vs sparesly populated (LSST))\n",
    "              implement priors - write own MCMC sampler (scary)\n",
    "              \n",
    "Goal: plot like above with priors and better simulated data and MCMC\n",
    "\n",
    "Overall goal: Convince asteroid community to use Gaussian processes for future asteroid models\n"
   ]
  },
  {
   "cell_type": "code",
   "execution_count": null,
   "metadata": {
    "collapsed": true
   },
   "outputs": [],
   "source": []
  }
 ],
 "metadata": {
  "kernelspec": {
   "display_name": "Python 3",
   "language": "python",
   "name": "python3"
  },
  "language_info": {
   "codemirror_mode": {
    "name": "ipython",
    "version": 3
   },
   "file_extension": ".py",
   "mimetype": "text/x-python",
   "name": "python",
   "nbconvert_exporter": "python",
   "pygments_lexer": "ipython3",
   "version": "3.6.3"
  }
 },
 "nbformat": 4,
 "nbformat_minor": 2
}
